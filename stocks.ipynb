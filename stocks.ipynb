{
 "cells": [
  {
   "cell_type": "markdown",
   "metadata": {},
   "source": [
    "# Stock Trades by Members of the US House of Representatives\n",
    "\n",
    "Author : Sungjin Choi, Shresht Venkatraman\n",
    "\n",
    "This project uses public data about the stock trades made by members of the US House of Representatives. This data is collected and maintained by Timothy Carambat as part of the [House Stock Watcher](https://housestockwatcher.com/) project. The project describes itself as follows:\n",
    "\n",
    "> With recent and ongoing investigations of incumbent congressional members being investigated for potentially violating the STOCK act. This website compiles this publicly available information in a format that is easier to digest then the original PDF source.\n",
    ">\n",
    "> Members of Congress must report periodic reports of their asset transactions. This website is purely for an informative purpose and aid in transparency.\n",
    ">\n",
    "> This site does not manipluate or censor any of the information from the original source. All data is transcribed by our community of contributors, which you can join for free by going to our transcription tool. Our moderation team takes great care in ensuring the accuracy of the information.\n",
    ">\n",
    "> This site is built and maintained by Timothy Carambat and supported with our contributors."
   ]
  },
  {
   "cell_type": "markdown",
   "metadata": {},
   "source": [
    "Some interesting questions to consider for this data set include:\n",
    "\n",
    "- Is there a difference in stock trading behavior between political parties? For example:\n",
    "    - does one party trade more often?\n",
    "    - does one party make larger trades?\n",
    "    - do the two parties invest in different stocks or sectors? For instance, do Democrats invest in Tesla more than Republicans?\n",
    "- What congresspeople have made the most trades?\n",
    "- What companies are most traded by congresspeople?\n",
    "- Is there evidence of insider trading? For example, Boeing stock dropped sharply in February 2020. Were there a suspiciously-high number of sales of Boeing before the drop?\n",
    "- When are stocks bought and sold? Is there a day of the week that is most common? Or a month of the year?"
   ]
  },
  {
   "cell_type": "markdown",
   "metadata": {},
   "source": [
    "### Getting the Data\n",
    "\n",
    "The full data set of stock trade disclosures is available as a CSV or as JSON at https://housestockwatcher.com/api.\n",
    "\n",
    "This data set does not, however, contain the political affiliation of the congresspeople. If you wish to investigate a question that relies on having this information, you'll need to find another dataset that contains it and perform a merge. *Hint*: Kaggle is a useful source of data sets."
   ]
  },
  {
   "cell_type": "markdown",
   "metadata": {},
   "source": [
    "\n",
    "### Cleaning and EDA\n",
    "\n",
    "- Clean the data.\n",
    "    - Certain fields have \"missing\" data that isn't labeled as missing. For example, there are fields with the value \"--.\" Do some exploration to find those values and convert them to null values.\n",
    "    - You may also want to clean up the date columns to enable time-series exploration.\n",
    "- Understand the data in ways relevant to your question using univariate and bivariate analysis of the data as well as aggregations.\n",
    "\n",
    "\n",
    "### Assessment of Missingness\n",
    "\n",
    "- Assess the missingness per the requirements in `project03.ipynb`\n",
    "\n",
    "### Hypothesis Test / Permutation Test\n",
    "Find a hypothesis test or permutation test to perform. You can use the questions at the top of the notebook for inspiration."
   ]
  },
  {
   "cell_type": "markdown",
   "metadata": {},
   "source": [
    "# Summary of Findings\n",
    "\n",
    "### Introduction\n",
    "\n",
    "\n",
    "This Project is an exploration of the 'House Stock Watcher\" data set which tracks the stock trading activity of members of the House of Representatives. The dataset contains stock information spanning the period from 2020 to 2022 and was designed to explore the possibility of insider trading among members of Congress. This investigation involves exploring this data set to understand whether the distribution of stock types is different among parties. \n",
    "We also explore the trading habits of the members and the parties as a whole, while trying to answer questions like:\n",
    "\n",
    "Which party does the most trades?\n",
    "Which congresspersons have made the most trades?\n",
    "\n",
    "We also attempt to look into allegations of insider trading by analysing the type of stock buys that are done by congress people and the distribution of party purchases for particular stocks\n",
    "\n",
    "### Cleaning and EDA\n",
    "\n",
    "\n",
    "The dataset was initially accquired from the House Stock Watcher website 'https://house-stock-watcher-data.s3-us-west-2.amazonaws.com/data/all_transactions.json'. This raw data had a few issues that needed to be addressed before any investigative analysis could be undertaken.\n",
    "\n",
    "The first step was to convert the various columns into their appropriate date types. More specifically:\n",
    "\n",
    "1) <b>'disclosure_year'</b>, <b>'disclosure_date'</b>,<b>'transaction_date'</b>, columns needed to be converted from strings to datetime objects. This was done using the pd.to_datetime() function.\n",
    "\n",
    "2) The next step was to ensure all missing values were handled appropriately. Missing values were presented inconsistently in the initial dataset, with some appearing as the strings 'None' or '--'. As a result we needed to replace these values with np.Nan to be able to accurately assess the nature of their missingness. This is was accomplished using the df.fillna() function. \n",
    "\n",
    "3) We also needed to convert the <b> cap_gains_over_200_usd </b> column into booleans from strings.\n",
    "\n",
    "4) A concious decision was taken to retain the <b>amount </b> as a string instead of an integer or float. This was done because the column only contains a range of values and not an exactl value; and more importantly did not contain useful information for this investigation\n",
    "\n",
    "\n",
    "\n",
    "After cleaning our data set we find numerous interesting observations about this data set. For example, the most traded stock is <b> Microsoft </b>. However it appears that majority of its trades are conducted by members of the \"Democratic Party\"\n",
    "\n",
    "\n",
    "We also observe that almost 56% of total trades and upwards of 63% of trades in the top10 stocks are traded by the Democratic Party representatives.\n",
    "\n",
    "All of these lead us to the research question:\n",
    "\n",
    "\n",
    "### _\"Are the Trading Habits the stocks of <b> Tesla </b> is different across parties in the House of Representatives from 2020-2022?\"_\n",
    "\n",
    "\n",
    "However, we needed to assess the data missingness before we could continue investigating this question\n",
    "\n",
    "### Assessment of Missingness\n",
    "\n",
    "An initial analysis of the missingness in the Data indicated that the following amount of missingness in the various columns of the dataset:\n",
    "\n",
    "disclosure_year              0\n",
    "disclosure_date              0\n",
    "transaction_date             7\n",
    "owner                     7358\n",
    "ticker                    1296\n",
    "asset_description            4\n",
    "type                         0\n",
    "amount                       0\n",
    "representative               0\n",
    "district                     0\n",
    "ptr_link                     0\n",
    "cap_gains_over_200_usd       0\n",
    "\n",
    "We notice that both the <b>owner</b> and <b>ticker</b> have a non-trivial level of missingness. Especially with <b>owner</b> having around 46.8% of its values missing. We therefore needed to judge whether the missingness was dependant on any other column. \n",
    "\n",
    "Using permutation, we test to see if the missingness of these 2 columns is dependant on the values of any other column,we get the following results:\n",
    "\n",
    "1) <b>ticker</b> on <b>type</b>\n",
    "\n",
    "We set our null hypothesis as being that <b>_Missingness in the \"ticker\" column is dependant on the \"type\" column_</b>, i.e missingess in <b>ticker</b> is <b>MAR</b>.\n",
    "\n",
    "Calculating the TVD of the various <b>type</b> categories as the test statistic, we run a permuation test while shuffling whether <b>ticker</b> is missing or not. Upon comparison with the observed TVD of the dataset, we obtain  a pvalue very close to 0.  \n",
    "\n",
    "hence, we <b>_reject the null hypothesis_ </b> and conclude that missingness in <b> ticker </b> is not dependant on values in <b> type </b> .\n",
    "\n",
    "2) <b>ticker</b> on <b>year</b>\n",
    "\n",
    "    \n",
    "We set our null hypothesis as being that <b>_Missingness in the \"ticker\" column is dependant on the \"year\" column_</b>, i.e missingess in <b>ticker</b> is <b>MAR</b>.\n",
    "\n",
    "Calculating the TVD of the various <b>year</b> values as the test statistics, we run a permuation test while shuffling whether <b>ticker</b> is missing or not. Upon comparison with the observed TVD of the dataset, we obtain  a pvalue of 0.6134.  \n",
    "hence, we <b>_ FAIL to reject the null hypothesis_ </b> and conclude that missingness in <b> ticker </b> is not a product of random chance, but dependant on values in <b> type </b> .\n",
    "    \n",
    "3) <b>owner</b> on <b>type</b>\n",
    "\n",
    "We set our null hypothesis as being that <b>_Missingness in the \"owner\" column is dependant on the \"type\" column_</b>, i.e missingess in <b>owner</b> is <b>MAR</b>.\n",
    "\n",
    "Calculating the TVD of the various <b>type</b> categories as the test statistic, we run a permuation test while shuffling whether <b>ticker</b> is missing or not. Upon comparison with the observed TVD of the dataset, we obtain  a pvalue of  0.0842.  \n",
    "\n",
    "hence, we <b>_ fail to reject the null hypothesis_ </b> and conclude that missingness in <b> ticker </b> is dependant on values in <b> type </b> .\n",
    "    \n",
    "4)<b>owner</b> on <b>year</b>\n",
    "    \n",
    "We set our null hypothesis as being that <b>_Missingness in the \"owner\" column is dependant on the \"year\" column_</b>, i.e missingess in <b>owner</b> is <b>MAR</b>.\n",
    "\n",
    "Calculating the TVD of the various <b>year</b> categories as the test statistic, we run a permuation test while shuffling whether <b>ticker</b> is missing or not. Upon comparison with the observed TVD of the dataset, we obtain  a pvalue of  0.996.  \n",
    "\n",
    "hence, we <b>_ fail to reject the null hypothesis_ </b> and conclude that missingness in <b> ticker </b> is dependant on values in <b> year </b> .\n",
    "\n",
    "### Hypothesis Tests\n",
    "\n",
    "Seeing that our research question is <b>_Are the Trading Habits the stocks of <b> Tesla </b> is different across parties in the House of Representatives from 2020-2022?_</b>, we need to find an appropriate measure of trading habits.\n",
    "\n",
    "We chose the rate/probablity of total trades of Tesla stock, of any type.\n",
    "\n",
    "Our <b> Null Hypothesis </b> is : \n",
    "\n",
    "<b> _\" Republican Party representatives are just as likely to trade Tesla stock as representatives from the Democratic Party\"_</b>\n",
    "\n",
    "Our <b> Alternate Hypothesis </b>:\n",
    "\n",
    "<b> _\"Representatives from the Republican Party trade Tesla stock at a different probability than those of the \n",
    "\n",
    "\n",
    "We run a permutation test to see if there is a significant difference in the probabilites/rates. On running a permutation test for 10000 repetitions, we obtained a p-value of: 0.8136\n",
    "    \n",
    "From this p-value we cannot reject the hypothesis that there is a no significant difference between the 2 parties for their likelihood to trade \"Tesla\" Stock. Therefore we don't \n",
    "    \n",
    " "
   ]
  },
  {
   "cell_type": "markdown",
   "metadata": {},
   "source": [
    "# Code"
   ]
  },
  {
   "cell_type": "code",
   "execution_count": 1,
   "metadata": {
    "ExecuteTime": {
     "end_time": "2019-10-31T23:36:28.652554Z",
     "start_time": "2019-10-31T23:36:27.180520Z"
    }
   },
   "outputs": [],
   "source": [
    "import matplotlib.pyplot as plt\n",
    "import numpy as np\n",
    "import os\n",
    "import pandas as pd\n",
    "import seaborn as sns\n",
    "%matplotlib inline\n",
    "%config InlineBackend.figure_format = 'retina'  # Higher resolution figures\n",
    "import requests"
   ]
  },
  {
   "cell_type": "markdown",
   "metadata": {},
   "source": [
    "## Cleaning and EDA"
   ]
  },
  {
   "cell_type": "markdown",
   "metadata": {},
   "source": [
    "### Importing the DataSet\n",
    "The first step in this project would be to import the raw dataset from the online source and convert it into a Pandas DataFrame that we can analyse"
   ]
  },
  {
   "cell_type": "code",
   "execution_count": 2,
   "metadata": {
    "ExecuteTime": {
     "end_time": "2019-10-31T23:36:28.657068Z",
     "start_time": "2019-10-31T23:36:28.654650Z"
    },
    "scrolled": true
   },
   "outputs": [],
   "source": [
    "## IMPORTING THE DATASET FROM THE WEBSITE:\n",
    "import requests\n",
    "url= 'https://house-stock-watcher-data.s3-us-west-2.amazonaws.com/data/all_transactions.json'\n",
    "json = requests.get(url).json()\n",
    "df= pd.DataFrame()\n",
    "for i in json:\n",
    "    df= df.append(i, ignore_index=True) ##CONVERTING INTO A PANDAS DATAFRAME"
   ]
  },
  {
   "cell_type": "markdown",
   "metadata": {},
   "source": [
    "This is how our resulting DataFrame looks like:"
   ]
  },
  {
   "cell_type": "code",
   "execution_count": 3,
   "metadata": {},
   "outputs": [
    {
     "data": {
      "text/html": [
       "<div>\n",
       "<style scoped>\n",
       "    .dataframe tbody tr th:only-of-type {\n",
       "        vertical-align: middle;\n",
       "    }\n",
       "\n",
       "    .dataframe tbody tr th {\n",
       "        vertical-align: top;\n",
       "    }\n",
       "\n",
       "    .dataframe thead th {\n",
       "        text-align: right;\n",
       "    }\n",
       "</style>\n",
       "<table border=\"1\" class=\"dataframe\">\n",
       "  <thead>\n",
       "    <tr style=\"text-align: right;\">\n",
       "      <th></th>\n",
       "      <th>disclosure_year</th>\n",
       "      <th>disclosure_date</th>\n",
       "      <th>transaction_date</th>\n",
       "      <th>owner</th>\n",
       "      <th>ticker</th>\n",
       "      <th>asset_description</th>\n",
       "      <th>type</th>\n",
       "      <th>amount</th>\n",
       "      <th>representative</th>\n",
       "      <th>district</th>\n",
       "      <th>state</th>\n",
       "      <th>ptr_link</th>\n",
       "      <th>cap_gains_over_200_usd</th>\n",
       "      <th>industry</th>\n",
       "      <th>sector</th>\n",
       "      <th>party</th>\n",
       "    </tr>\n",
       "  </thead>\n",
       "  <tbody>\n",
       "    <tr>\n",
       "      <th>0</th>\n",
       "      <td>2021.0</td>\n",
       "      <td>10/04/2021</td>\n",
       "      <td>2021-09-27</td>\n",
       "      <td>joint</td>\n",
       "      <td>BP</td>\n",
       "      <td>BP plc</td>\n",
       "      <td>purchase</td>\n",
       "      <td>$1,001 - $15,000</td>\n",
       "      <td>Virginia Foxx</td>\n",
       "      <td>NC05</td>\n",
       "      <td>NC</td>\n",
       "      <td>https://disclosures-clerk.house.gov/public_dis...</td>\n",
       "      <td>0.0</td>\n",
       "      <td>Integrated oil Companies</td>\n",
       "      <td>Energy</td>\n",
       "      <td>Republican</td>\n",
       "    </tr>\n",
       "    <tr>\n",
       "      <th>1</th>\n",
       "      <td>2021.0</td>\n",
       "      <td>10/04/2021</td>\n",
       "      <td>2021-09-13</td>\n",
       "      <td>joint</td>\n",
       "      <td>XOM</td>\n",
       "      <td>Exxon Mobil Corporation</td>\n",
       "      <td>purchase</td>\n",
       "      <td>$1,001 - $15,000</td>\n",
       "      <td>Virginia Foxx</td>\n",
       "      <td>NC05</td>\n",
       "      <td>NC</td>\n",
       "      <td>https://disclosures-clerk.house.gov/public_dis...</td>\n",
       "      <td>0.0</td>\n",
       "      <td>Integrated oil Companies</td>\n",
       "      <td>Energy</td>\n",
       "      <td>Republican</td>\n",
       "    </tr>\n",
       "    <tr>\n",
       "      <th>2</th>\n",
       "      <td>2021.0</td>\n",
       "      <td>10/04/2021</td>\n",
       "      <td>2021-09-10</td>\n",
       "      <td>joint</td>\n",
       "      <td>ILPT</td>\n",
       "      <td>Industrial Logistics Properties Trust - Common...</td>\n",
       "      <td>purchase</td>\n",
       "      <td>$15,001 - $50,000</td>\n",
       "      <td>Virginia Foxx</td>\n",
       "      <td>NC05</td>\n",
       "      <td>NC</td>\n",
       "      <td>https://disclosures-clerk.house.gov/public_dis...</td>\n",
       "      <td>0.0</td>\n",
       "      <td>Real Estate Investment Trusts</td>\n",
       "      <td>Real Estate</td>\n",
       "      <td>Republican</td>\n",
       "    </tr>\n",
       "    <tr>\n",
       "      <th>3</th>\n",
       "      <td>2021.0</td>\n",
       "      <td>10/04/2021</td>\n",
       "      <td>2021-09-28</td>\n",
       "      <td>joint</td>\n",
       "      <td>PM</td>\n",
       "      <td>Phillip Morris International Inc</td>\n",
       "      <td>purchase</td>\n",
       "      <td>$15,001 - $50,000</td>\n",
       "      <td>Virginia Foxx</td>\n",
       "      <td>NC05</td>\n",
       "      <td>NC</td>\n",
       "      <td>https://disclosures-clerk.house.gov/public_dis...</td>\n",
       "      <td>0.0</td>\n",
       "      <td>Farming/Seeds/Milling</td>\n",
       "      <td>Consumer Non-Durables</td>\n",
       "      <td>Republican</td>\n",
       "    </tr>\n",
       "    <tr>\n",
       "      <th>4</th>\n",
       "      <td>2021.0</td>\n",
       "      <td>10/04/2021</td>\n",
       "      <td>2021-09-17</td>\n",
       "      <td>self</td>\n",
       "      <td>BLK</td>\n",
       "      <td>BlackRock Inc</td>\n",
       "      <td>sale_partial</td>\n",
       "      <td>$1,001 - $15,000</td>\n",
       "      <td>Alan S. Lowenthal</td>\n",
       "      <td>CA47</td>\n",
       "      <td>CA</td>\n",
       "      <td>https://disclosures-clerk.house.gov/public_dis...</td>\n",
       "      <td>0.0</td>\n",
       "      <td>Investment Bankers/Brokers/Service</td>\n",
       "      <td>Finance</td>\n",
       "      <td>Democrat</td>\n",
       "    </tr>\n",
       "  </tbody>\n",
       "</table>\n",
       "</div>"
      ],
      "text/plain": [
       "   disclosure_year disclosure_date transaction_date  owner ticker  \\\n",
       "0           2021.0      10/04/2021       2021-09-27  joint     BP   \n",
       "1           2021.0      10/04/2021       2021-09-13  joint    XOM   \n",
       "2           2021.0      10/04/2021       2021-09-10  joint   ILPT   \n",
       "3           2021.0      10/04/2021       2021-09-28  joint     PM   \n",
       "4           2021.0      10/04/2021       2021-09-17   self    BLK   \n",
       "\n",
       "                                   asset_description          type  \\\n",
       "0                                             BP plc      purchase   \n",
       "1                            Exxon Mobil Corporation      purchase   \n",
       "2  Industrial Logistics Properties Trust - Common...      purchase   \n",
       "3                   Phillip Morris International Inc      purchase   \n",
       "4                                      BlackRock Inc  sale_partial   \n",
       "\n",
       "              amount     representative district state  \\\n",
       "0   $1,001 - $15,000      Virginia Foxx     NC05    NC   \n",
       "1   $1,001 - $15,000      Virginia Foxx     NC05    NC   \n",
       "2  $15,001 - $50,000      Virginia Foxx     NC05    NC   \n",
       "3  $15,001 - $50,000      Virginia Foxx     NC05    NC   \n",
       "4   $1,001 - $15,000  Alan S. Lowenthal     CA47    CA   \n",
       "\n",
       "                                            ptr_link  cap_gains_over_200_usd  \\\n",
       "0  https://disclosures-clerk.house.gov/public_dis...                     0.0   \n",
       "1  https://disclosures-clerk.house.gov/public_dis...                     0.0   \n",
       "2  https://disclosures-clerk.house.gov/public_dis...                     0.0   \n",
       "3  https://disclosures-clerk.house.gov/public_dis...                     0.0   \n",
       "4  https://disclosures-clerk.house.gov/public_dis...                     0.0   \n",
       "\n",
       "                             industry                 sector       party  \n",
       "0            Integrated oil Companies                 Energy  Republican  \n",
       "1            Integrated oil Companies                 Energy  Republican  \n",
       "2       Real Estate Investment Trusts            Real Estate  Republican  \n",
       "3               Farming/Seeds/Milling  Consumer Non-Durables  Republican  \n",
       "4  Investment Bankers/Brokers/Service                Finance    Democrat  "
      ]
     },
     "execution_count": 3,
     "metadata": {},
     "output_type": "execute_result"
    }
   ],
   "source": [
    "df.head()"
   ]
  },
  {
   "cell_type": "markdown",
   "metadata": {},
   "source": [
    "### Fixing column data-types\n",
    "\n",
    "It contains numerous missing values in multiple columns. The data types for various columns is also inappropriate for the kind of analysis we want to do. The <b>'disclosure_year'</b>, <b>'disclosure_date'</b>,<b>'transaction_date'</b>, columns needed to be converted from strings to datetime objects. This was done using the pd.to_datetime() function. We also needed to convert the <b> cap_gains_over_200_usd </b> column into booleans from strings.\n",
    "\n",
    "In order to make the names of the representatives in the <b>representatives</b> more useful for our analysis, we decide retain only the name of the representative and drop the title 'Hon.\"\n",
    "\n",
    "This cleaning process is undertaken in the following cell:"
   ]
  },
  {
   "cell_type": "code",
   "execution_count": 4,
   "metadata": {},
   "outputs": [
    {
     "name": "stderr",
     "output_type": "stream",
     "text": [
      "C:\\Users\\HANSUNG\\anaconda3\\envs\\dsc80\\lib\\site-packages\\pandas\\core\\indexing.py:1732: SettingWithCopyWarning: \n",
      "A value is trying to be set on a copy of a slice from a DataFrame\n",
      "\n",
      "See the caveats in the documentation: https://pandas.pydata.org/pandas-docs/stable/user_guide/indexing.html#returning-a-view-versus-a-copy\n",
      "  self._setitem_single_block(indexer, value, name)\n"
     ]
    }
   ],
   "source": [
    "#CONVERTING THE COLUMNS TO THE CORRECT TYPE\n",
    "df['disclosure_date'] = pd.to_datetime(df['disclosure_date'],format = '%m/%d/%Y') # CONVERTING FROM STRING TO DATETIME\n",
    "df['transaction_date'] = pd.to_datetime(df['transaction_date'],format = '%Y-%m-%d',errors = 'coerce') #CONVERTING FROM STRING TO DATETIME\n",
    "df['disclosure_year'] = df['disclosure_date'].dt.year # CONVERTING FROM STRING TO DATETIME\n",
    "df['cap_gains_over_200_usd'] = df.cap_gains_over_200_usd.astype(bool) # CONVERTING FROM STRING TO BOOL\n",
    "\n",
    "df = df.replace('--', np.nan) ## REPLACING '--' STRINGS WITH np.Nan\n",
    "new = df.copy()\n",
    "\n",
    "for i in range(len(new['representative'])):\n",
    "    df['representative'].iloc[i] = \" \".join(new['representative'].iloc[i].split(\" \")[1:]) ##REMOVING THE TITLE AND RETAINING THE NAME\n",
    "\n"
   ]
  },
  {
   "cell_type": "markdown",
   "metadata": {},
   "source": [
    "This is what our dataframe with the data-types fixed looks like:"
   ]
  },
  {
   "cell_type": "code",
   "execution_count": 5,
   "metadata": {},
   "outputs": [
    {
     "data": {
      "text/html": [
       "<div>\n",
       "<style scoped>\n",
       "    .dataframe tbody tr th:only-of-type {\n",
       "        vertical-align: middle;\n",
       "    }\n",
       "\n",
       "    .dataframe tbody tr th {\n",
       "        vertical-align: top;\n",
       "    }\n",
       "\n",
       "    .dataframe thead th {\n",
       "        text-align: right;\n",
       "    }\n",
       "</style>\n",
       "<table border=\"1\" class=\"dataframe\">\n",
       "  <thead>\n",
       "    <tr style=\"text-align: right;\">\n",
       "      <th></th>\n",
       "      <th>disclosure_year</th>\n",
       "      <th>disclosure_date</th>\n",
       "      <th>transaction_date</th>\n",
       "      <th>owner</th>\n",
       "      <th>ticker</th>\n",
       "      <th>asset_description</th>\n",
       "      <th>type</th>\n",
       "      <th>amount</th>\n",
       "      <th>representative</th>\n",
       "      <th>district</th>\n",
       "      <th>state</th>\n",
       "      <th>ptr_link</th>\n",
       "      <th>cap_gains_over_200_usd</th>\n",
       "      <th>industry</th>\n",
       "      <th>sector</th>\n",
       "      <th>party</th>\n",
       "    </tr>\n",
       "  </thead>\n",
       "  <tbody>\n",
       "    <tr>\n",
       "      <th>0</th>\n",
       "      <td>2021</td>\n",
       "      <td>2021-10-04</td>\n",
       "      <td>2021-09-27</td>\n",
       "      <td>joint</td>\n",
       "      <td>BP</td>\n",
       "      <td>BP plc</td>\n",
       "      <td>purchase</td>\n",
       "      <td>$1,001 - $15,000</td>\n",
       "      <td>Foxx</td>\n",
       "      <td>NC05</td>\n",
       "      <td>NC</td>\n",
       "      <td>https://disclosures-clerk.house.gov/public_dis...</td>\n",
       "      <td>False</td>\n",
       "      <td>Integrated oil Companies</td>\n",
       "      <td>Energy</td>\n",
       "      <td>Republican</td>\n",
       "    </tr>\n",
       "    <tr>\n",
       "      <th>1</th>\n",
       "      <td>2021</td>\n",
       "      <td>2021-10-04</td>\n",
       "      <td>2021-09-13</td>\n",
       "      <td>joint</td>\n",
       "      <td>XOM</td>\n",
       "      <td>Exxon Mobil Corporation</td>\n",
       "      <td>purchase</td>\n",
       "      <td>$1,001 - $15,000</td>\n",
       "      <td>Foxx</td>\n",
       "      <td>NC05</td>\n",
       "      <td>NC</td>\n",
       "      <td>https://disclosures-clerk.house.gov/public_dis...</td>\n",
       "      <td>False</td>\n",
       "      <td>Integrated oil Companies</td>\n",
       "      <td>Energy</td>\n",
       "      <td>Republican</td>\n",
       "    </tr>\n",
       "    <tr>\n",
       "      <th>2</th>\n",
       "      <td>2021</td>\n",
       "      <td>2021-10-04</td>\n",
       "      <td>2021-09-10</td>\n",
       "      <td>joint</td>\n",
       "      <td>ILPT</td>\n",
       "      <td>Industrial Logistics Properties Trust - Common...</td>\n",
       "      <td>purchase</td>\n",
       "      <td>$15,001 - $50,000</td>\n",
       "      <td>Foxx</td>\n",
       "      <td>NC05</td>\n",
       "      <td>NC</td>\n",
       "      <td>https://disclosures-clerk.house.gov/public_dis...</td>\n",
       "      <td>False</td>\n",
       "      <td>Real Estate Investment Trusts</td>\n",
       "      <td>Real Estate</td>\n",
       "      <td>Republican</td>\n",
       "    </tr>\n",
       "    <tr>\n",
       "      <th>3</th>\n",
       "      <td>2021</td>\n",
       "      <td>2021-10-04</td>\n",
       "      <td>2021-09-28</td>\n",
       "      <td>joint</td>\n",
       "      <td>PM</td>\n",
       "      <td>Phillip Morris International Inc</td>\n",
       "      <td>purchase</td>\n",
       "      <td>$15,001 - $50,000</td>\n",
       "      <td>Foxx</td>\n",
       "      <td>NC05</td>\n",
       "      <td>NC</td>\n",
       "      <td>https://disclosures-clerk.house.gov/public_dis...</td>\n",
       "      <td>False</td>\n",
       "      <td>Farming/Seeds/Milling</td>\n",
       "      <td>Consumer Non-Durables</td>\n",
       "      <td>Republican</td>\n",
       "    </tr>\n",
       "    <tr>\n",
       "      <th>4</th>\n",
       "      <td>2021</td>\n",
       "      <td>2021-10-04</td>\n",
       "      <td>2021-09-17</td>\n",
       "      <td>self</td>\n",
       "      <td>BLK</td>\n",
       "      <td>BlackRock Inc</td>\n",
       "      <td>sale_partial</td>\n",
       "      <td>$1,001 - $15,000</td>\n",
       "      <td>S. Lowenthal</td>\n",
       "      <td>CA47</td>\n",
       "      <td>CA</td>\n",
       "      <td>https://disclosures-clerk.house.gov/public_dis...</td>\n",
       "      <td>False</td>\n",
       "      <td>Investment Bankers/Brokers/Service</td>\n",
       "      <td>Finance</td>\n",
       "      <td>Democrat</td>\n",
       "    </tr>\n",
       "  </tbody>\n",
       "</table>\n",
       "</div>"
      ],
      "text/plain": [
       "   disclosure_year disclosure_date transaction_date  owner ticker  \\\n",
       "0             2021      2021-10-04       2021-09-27  joint     BP   \n",
       "1             2021      2021-10-04       2021-09-13  joint    XOM   \n",
       "2             2021      2021-10-04       2021-09-10  joint   ILPT   \n",
       "3             2021      2021-10-04       2021-09-28  joint     PM   \n",
       "4             2021      2021-10-04       2021-09-17   self    BLK   \n",
       "\n",
       "                                   asset_description          type  \\\n",
       "0                                             BP plc      purchase   \n",
       "1                            Exxon Mobil Corporation      purchase   \n",
       "2  Industrial Logistics Properties Trust - Common...      purchase   \n",
       "3                   Phillip Morris International Inc      purchase   \n",
       "4                                      BlackRock Inc  sale_partial   \n",
       "\n",
       "              amount representative district state  \\\n",
       "0   $1,001 - $15,000           Foxx     NC05    NC   \n",
       "1   $1,001 - $15,000           Foxx     NC05    NC   \n",
       "2  $15,001 - $50,000           Foxx     NC05    NC   \n",
       "3  $15,001 - $50,000           Foxx     NC05    NC   \n",
       "4   $1,001 - $15,000   S. Lowenthal     CA47    CA   \n",
       "\n",
       "                                            ptr_link  cap_gains_over_200_usd  \\\n",
       "0  https://disclosures-clerk.house.gov/public_dis...                   False   \n",
       "1  https://disclosures-clerk.house.gov/public_dis...                   False   \n",
       "2  https://disclosures-clerk.house.gov/public_dis...                   False   \n",
       "3  https://disclosures-clerk.house.gov/public_dis...                   False   \n",
       "4  https://disclosures-clerk.house.gov/public_dis...                   False   \n",
       "\n",
       "                             industry                 sector       party  \n",
       "0            Integrated oil Companies                 Energy  Republican  \n",
       "1            Integrated oil Companies                 Energy  Republican  \n",
       "2       Real Estate Investment Trusts            Real Estate  Republican  \n",
       "3               Farming/Seeds/Milling  Consumer Non-Durables  Republican  \n",
       "4  Investment Bankers/Brokers/Service                Finance    Democrat  "
      ]
     },
     "execution_count": 5,
     "metadata": {},
     "output_type": "execute_result"
    }
   ],
   "source": [
    "df.head()"
   ]
  },
  {
   "cell_type": "markdown",
   "metadata": {},
   "source": [
    "### Importing External Party Affiliation Data\n",
    "\n",
    "Unfortunately even at this stage, this DataFrame is still missing some very important pieces of information. Namely, the party affiliations of the Congressmen and women were not available in our initial dataset. Therefore it becomes necesarry to obtain it from a different data set and merge it with the one we have already created.\n",
    "\n",
    "This process is undertaken in the following cell. The external dataset was form the <b>Directory of Representatives</b> website, run by the US government. We obtained the data on this website using HTML scraping.\n",
    "\n",
    "The original website can be found on this link: https://www.house.gov/representatives\n",
    "Seeing as this is public information, we did not encounter any issues of plagiarism or privacy violations."
   ]
  },
  {
   "cell_type": "code",
   "execution_count": 6,
   "metadata": {},
   "outputs": [
    {
     "data": {
      "text/html": [
       "<div>\n",
       "<style scoped>\n",
       "    .dataframe tbody tr th:only-of-type {\n",
       "        vertical-align: middle;\n",
       "    }\n",
       "\n",
       "    .dataframe tbody tr th {\n",
       "        vertical-align: top;\n",
       "    }\n",
       "\n",
       "    .dataframe thead th {\n",
       "        text-align: right;\n",
       "    }\n",
       "</style>\n",
       "<table border=\"1\" class=\"dataframe\">\n",
       "  <thead>\n",
       "    <tr style=\"text-align: right;\">\n",
       "      <th></th>\n",
       "      <th>disclosure_year</th>\n",
       "      <th>disclosure_date</th>\n",
       "      <th>transaction_date</th>\n",
       "      <th>owner</th>\n",
       "      <th>ticker</th>\n",
       "      <th>asset_description</th>\n",
       "      <th>type</th>\n",
       "      <th>amount</th>\n",
       "      <th>representative</th>\n",
       "      <th>district</th>\n",
       "      <th>state</th>\n",
       "      <th>ptr_link</th>\n",
       "      <th>cap_gains_over_200_usd</th>\n",
       "      <th>industry</th>\n",
       "      <th>sector</th>\n",
       "      <th>party_x</th>\n",
       "      <th>party_y</th>\n",
       "    </tr>\n",
       "  </thead>\n",
       "  <tbody>\n",
       "    <tr>\n",
       "      <th>0</th>\n",
       "      <td>2021</td>\n",
       "      <td>2021-10-04</td>\n",
       "      <td>2021-09-27</td>\n",
       "      <td>joint</td>\n",
       "      <td>BP</td>\n",
       "      <td>BP plc</td>\n",
       "      <td>purchase</td>\n",
       "      <td>$1,001 - $15,000</td>\n",
       "      <td>Foxx</td>\n",
       "      <td>NC05</td>\n",
       "      <td>NC</td>\n",
       "      <td>https://disclosures-clerk.house.gov/public_dis...</td>\n",
       "      <td>False</td>\n",
       "      <td>Integrated oil Companies</td>\n",
       "      <td>Energy</td>\n",
       "      <td>Republican</td>\n",
       "      <td>NaN</td>\n",
       "    </tr>\n",
       "    <tr>\n",
       "      <th>1</th>\n",
       "      <td>2021</td>\n",
       "      <td>2021-10-04</td>\n",
       "      <td>2021-09-13</td>\n",
       "      <td>joint</td>\n",
       "      <td>XOM</td>\n",
       "      <td>Exxon Mobil Corporation</td>\n",
       "      <td>purchase</td>\n",
       "      <td>$1,001 - $15,000</td>\n",
       "      <td>Foxx</td>\n",
       "      <td>NC05</td>\n",
       "      <td>NC</td>\n",
       "      <td>https://disclosures-clerk.house.gov/public_dis...</td>\n",
       "      <td>False</td>\n",
       "      <td>Integrated oil Companies</td>\n",
       "      <td>Energy</td>\n",
       "      <td>Republican</td>\n",
       "      <td>NaN</td>\n",
       "    </tr>\n",
       "    <tr>\n",
       "      <th>2</th>\n",
       "      <td>2021</td>\n",
       "      <td>2021-10-04</td>\n",
       "      <td>2021-09-10</td>\n",
       "      <td>joint</td>\n",
       "      <td>ILPT</td>\n",
       "      <td>Industrial Logistics Properties Trust - Common...</td>\n",
       "      <td>purchase</td>\n",
       "      <td>$15,001 - $50,000</td>\n",
       "      <td>Foxx</td>\n",
       "      <td>NC05</td>\n",
       "      <td>NC</td>\n",
       "      <td>https://disclosures-clerk.house.gov/public_dis...</td>\n",
       "      <td>False</td>\n",
       "      <td>Real Estate Investment Trusts</td>\n",
       "      <td>Real Estate</td>\n",
       "      <td>Republican</td>\n",
       "      <td>NaN</td>\n",
       "    </tr>\n",
       "    <tr>\n",
       "      <th>3</th>\n",
       "      <td>2021</td>\n",
       "      <td>2021-10-04</td>\n",
       "      <td>2021-09-28</td>\n",
       "      <td>joint</td>\n",
       "      <td>PM</td>\n",
       "      <td>Phillip Morris International Inc</td>\n",
       "      <td>purchase</td>\n",
       "      <td>$15,001 - $50,000</td>\n",
       "      <td>Foxx</td>\n",
       "      <td>NC05</td>\n",
       "      <td>NC</td>\n",
       "      <td>https://disclosures-clerk.house.gov/public_dis...</td>\n",
       "      <td>False</td>\n",
       "      <td>Farming/Seeds/Milling</td>\n",
       "      <td>Consumer Non-Durables</td>\n",
       "      <td>Republican</td>\n",
       "      <td>NaN</td>\n",
       "    </tr>\n",
       "    <tr>\n",
       "      <th>4</th>\n",
       "      <td>2021</td>\n",
       "      <td>2021-10-04</td>\n",
       "      <td>2021-09-17</td>\n",
       "      <td>self</td>\n",
       "      <td>BLK</td>\n",
       "      <td>BlackRock Inc</td>\n",
       "      <td>sale_partial</td>\n",
       "      <td>$1,001 - $15,000</td>\n",
       "      <td>S. Lowenthal</td>\n",
       "      <td>CA47</td>\n",
       "      <td>CA</td>\n",
       "      <td>https://disclosures-clerk.house.gov/public_dis...</td>\n",
       "      <td>False</td>\n",
       "      <td>Investment Bankers/Brokers/Service</td>\n",
       "      <td>Finance</td>\n",
       "      <td>Democrat</td>\n",
       "      <td>NaN</td>\n",
       "    </tr>\n",
       "  </tbody>\n",
       "</table>\n",
       "</div>"
      ],
      "text/plain": [
       "   disclosure_year disclosure_date transaction_date  owner ticker  \\\n",
       "0             2021      2021-10-04       2021-09-27  joint     BP   \n",
       "1             2021      2021-10-04       2021-09-13  joint    XOM   \n",
       "2             2021      2021-10-04       2021-09-10  joint   ILPT   \n",
       "3             2021      2021-10-04       2021-09-28  joint     PM   \n",
       "4             2021      2021-10-04       2021-09-17   self    BLK   \n",
       "\n",
       "                                   asset_description          type  \\\n",
       "0                                             BP plc      purchase   \n",
       "1                            Exxon Mobil Corporation      purchase   \n",
       "2  Industrial Logistics Properties Trust - Common...      purchase   \n",
       "3                   Phillip Morris International Inc      purchase   \n",
       "4                                      BlackRock Inc  sale_partial   \n",
       "\n",
       "              amount representative district state  \\\n",
       "0   $1,001 - $15,000           Foxx     NC05    NC   \n",
       "1   $1,001 - $15,000           Foxx     NC05    NC   \n",
       "2  $15,001 - $50,000           Foxx     NC05    NC   \n",
       "3  $15,001 - $50,000           Foxx     NC05    NC   \n",
       "4   $1,001 - $15,000   S. Lowenthal     CA47    CA   \n",
       "\n",
       "                                            ptr_link  cap_gains_over_200_usd  \\\n",
       "0  https://disclosures-clerk.house.gov/public_dis...                   False   \n",
       "1  https://disclosures-clerk.house.gov/public_dis...                   False   \n",
       "2  https://disclosures-clerk.house.gov/public_dis...                   False   \n",
       "3  https://disclosures-clerk.house.gov/public_dis...                   False   \n",
       "4  https://disclosures-clerk.house.gov/public_dis...                   False   \n",
       "\n",
       "                             industry                 sector     party_x  \\\n",
       "0            Integrated oil Companies                 Energy  Republican   \n",
       "1            Integrated oil Companies                 Energy  Republican   \n",
       "2       Real Estate Investment Trusts            Real Estate  Republican   \n",
       "3               Farming/Seeds/Milling  Consumer Non-Durables  Republican   \n",
       "4  Investment Bankers/Brokers/Service                Finance    Democrat   \n",
       "\n",
       "  party_y  \n",
       "0     NaN  \n",
       "1     NaN  \n",
       "2     NaN  \n",
       "3     NaN  \n",
       "4     NaN  "
      ]
     },
     "execution_count": 6,
     "metadata": {},
     "output_type": "execute_result"
    }
   ],
   "source": [
    "##IMPORTING DATA ON THE PARTY AFFILIATION OF THE CANDIDATES\n",
    "\n",
    "import bs4\n",
    "import lxml\n",
    "\n",
    "url = \"https://www.house.gov/representatives\"\n",
    "text = requests.get(url).text\n",
    "soup = bs4.BeautifulSoup(text)\n",
    "tds = soup.find_all(\"td\")\n",
    "data = []\n",
    "new = []\n",
    "copy = df.copy()\n",
    "for td in tds:\n",
    "    if (\",\" in td.text) & (\"Vacancy\" in td.text):\n",
    "        #print(True,td.text)\n",
    "        continue\n",
    "    if (\",\" in td.text) &(\"Technology\" not in td.text):\n",
    "        new.append(td.text.strip())\n",
    "    if len(new) == 2:\n",
    "        data.append(new)\n",
    "        new = []\n",
    "    elif (2<len(td.text) <= 9) & ((td.text[0]==\"R\")|(td.text[0]==\"D\")):\n",
    "        new.append(td.text.strip())\n",
    "    if len(new) == 2:\n",
    "        data.append(new)\n",
    "        new = []\n",
    "    if len(data) ==438:\n",
    "        break\n",
    "\n",
    "##ADDING THE PARTY AFFILIATION COLUMN TO THE DATAFRAME\n",
    "partydf = pd.DataFrame(data = data,columns = [\"name\",\"party\"])\n",
    "partydf[\"name\"] = partydf[\"name\"].str.split(\", | \")\n",
    "for i in range(len(partydf[\"name\"])):\n",
    "    if len(partydf[\"name\"].iloc[i]) == 3:\n",
    "        temp = []\n",
    "        for j in range(3):\n",
    "            temp.append(len(partydf[\"name\"].iloc[i][j]))\n",
    "        del partydf[\"name\"].iloc[i][temp.index(min(temp))]\n",
    "representative = df.representative.unique().tolist()\n",
    "for i in range(len(partydf[\"name\"])):    \n",
    "    for realname in representative:\n",
    "        if len(partydf[\"name\"].iloc[i]) == 1:\n",
    "            if (partydf[\"name\"].iloc[i][0] in realname):\n",
    "                partydf[\"name\"].iloc[i] = realname\n",
    "        if len(partydf[\"name\"].iloc[i]) == 2:\n",
    "            if (partydf[\"name\"].iloc[i][0] in realname) & (partydf[\"name\"].iloc[i][1] in realname):\n",
    "                partydf[\"name\"].iloc[i] = realname\n",
    "        \n",
    "    if type(partydf[\"name\"].iloc[i])==list:\n",
    "        partydf[\"name\"].iloc[i] = np.nan\n",
    "        partydf[\"party\"].iloc[i] = np.nan\n",
    "finaldf = pd.merge(copy,partydf,left_on = \"representative\", right_on = \"name\",how = \"left\")\n",
    "no_party = finaldf[finaldf.representative != finaldf.name].representative.unique().tolist()\n",
    "\n",
    "# noparty_party = [\"D\",\"R\",\"D\",\"D\",\"D\",\"R\",\"R\",\"R\",\"R\",\"R\",\"D\",\"R\",\"D\",\"R\",\"R\",\"D\",\"R\",\"D\",\"No\",\"R\",\"R\",\"No\"\n",
    "# ,\"No\",\"D\",\"R\",\"D\",\"D\",\"D\",\"R\",\"R\",\"D\",\"R\",\"D\",\"R\",\"D\",\"R\",\"R\",'R',\"D\",\"R\",\"No\",\"No\",\"Libertarian\"]\n",
    "# nopartydf = pd.DataFrame()\n",
    "# nopartydf[\"name\"] = no_party\n",
    "# nopartydf[\"party\"] = noparty_party\n",
    "\n",
    "partydf = partydf.dropna().reset_index(drop=True)\n",
    "all_party = partydf.set_index(\"name\")\n",
    "partydf = pd.merge(copy,all_party,left_on = \"representative\", right_index = True,how = \"left\")\n",
    "\n",
    "partydf.head()"
   ]
  },
  {
   "cell_type": "code",
   "execution_count": 7,
   "metadata": {},
   "outputs": [],
   "source": [
    "import selenium\n",
    "from selenium import webdriver"
   ]
  },
  {
   "cell_type": "code",
   "execution_count": 8,
   "metadata": {},
   "outputs": [
    {
     "data": {
      "text/plain": [
       "'<html lang=\"en\"><head><meta charset=\"utf-8\"><meta name=\"viewport\" content=\"width=device-width,initial-scale=1\"><meta http-equiv=\"X-UA-Compatible\" content=\"IE=edge,chrome=1\"><meta content=\"width=device-width,initial-scale=1,shrink-to-fit=no\" name=\"viewport\"><meta name=\"title\" content=\"House Stock Watcher - See What Your Representative Is Trading\"><meta name=\"description\" content=\"Updated Daily - See the stock trades US Representatives are making as they are reported. Get notifications when new reports are uploaded. Get insight now!\"><meta property=\"og:type\" content=\"website\"><meta property=\"og:url\" content=\"https://housestockwatcher.com\"><meta property=\"og:title\" content=\"House Stock Watcher - See What Your Representative Is Trading\"><meta property=\"og:description\" content=\"Updated Daily - See the stock trades US Representatives are making as they are reported. Get notifications when new reports are uploaded. Get insight now!\"><meta property=\"og:image\" content=\"https://housestockwatcher.com/promo1.png\"><meta property=\"twitter:card\" content=\"summary_large_image\"><meta property=\"twitter:url\" content=\"https://housestockwatcher.com/\"><meta property=\"twitter:title\" content=\"House Stock Watcher - See What Your Representative Is Trading\"><meta property=\"twitter:description\" content=\"Updated Daily - See the stock trades US Representatives are making as they are reported. Get notifications when new reports are uploaded. Get insight now!\"><meta property=\"twitter:image\" content=\"https://housestockwatcher.com/promo1.png\"><title>House Stock Watcher - Trading Summary for Your Representative</title><link rel=\"shortcut icon\" href=\"/favicon.png\"><link rel=\"apple-touch-icon\" sizes=\"76x76\" href=\"/apple-icon.png\"><link rel=\"manifest\" href=\"/manifest.json\"><link rel=\"stylesheet\" href=\"/tailwind.min.css\"><link href=\"https://unpkg.com/tailwindcss@^2/dist/tailwind.min.css\" rel=\"stylesheet\"><script src=\"https://partner.googleadservices.com/gampad/cookie.js?domain=housestockwatcher.com&amp;callback=_gfp_s_&amp;client=ca-pub-2466331850146937\"></script><script src=\"https://pagead2.googlesyndication.com/pagead/managed/js/adsense/m202302080101/show_ads_impl_fy2021.js?bust=31072272\" id=\"google_shimpl\"></script><script async=\"\" src=\"https://pagead2.googlesyndication.com/pagead/js/adsbygoogle.js?client=ca-pub-2466331850146937\" crossorigin=\"anonymous\" data-checked-head=\"true\"></script><link href=\"/static/css/8.64714940.chunk.css\" rel=\"stylesheet\"><script data-partytown=\"\">!(function(w,p,f,c){c=w[p]=Object.assign(w[p]||{},{\"debug\":false});c[f]=(c[f]||[]).concat([\"dataLayer.push\"])})(window,\\'partytown\\',\\'forward\\');/* Partytown 0.7.3 - MIT builder.io */\\n!function(t,e,n,i,r,o,a,d,s,c,p,l){function u(){l||(l=1,\"/\"==(a=(o.lib||\"/~partytown/\")+(o.debug?\"debug/\":\"\"))[0]&&(s=e.querySelectorAll(\\'script[type=\"text/partytown\"]\\'),i!=t?i.dispatchEvent(new CustomEvent(\"pt1\",{detail:t})):(d=setTimeout(w,1e4),e.addEventListener(\"pt0\",f),r?h(1):n.serviceWorker?n.serviceWorker.register(a+(o.swPath||\"partytown-sw.js\"),{scope:a}).then((function(t){t.active?h():t.installing&&t.installing.addEventListener(\"statechange\",(function(t){\"activated\"==t.target.state&&h()}))}),console.error):w())))}function h(t){c=e.createElement(t?\"script\":\"iframe\"),t||(c.setAttribute(\"style\",\"display:block;width:0;height:0;border:0;visibility:hidden\"),c.setAttribute(\"aria-hidden\",!0)),c.src=a+\"partytown-\"+(t?\"atomics.js?v=0.7.3\":\"sandbox-sw.html?\"+Date.now()),e.body.appendChild(c)}function w(t,n){for(f(),t=0;t<s.length;t++)(n=e.createElement(\"script\")).innerHTML=s[t].innerHTML,e.head.appendChild(n);c&&c.parentNode.removeChild(c)}function f(){clearTimeout(d)}o=t.partytown||{},i==t&&(o.forward||[]).map((function(e){p=t,e.split(\".\").map((function(e,n,i){p=p[i[n]]=n+1<i.length?\"push\"==i[n+1]?[]:p[i[n]]||{}:function(){(t._ptf=t._ptf||[]).push(i,arguments)}}))})),\"complete\"==e.readyState?u():(t.addEventListener(\"DOMContentLoaded\",u),t.addEventListener(\"load\",u))}(window,document,navigator,top,window.crossOriginIsolated);</script><script charset=\"utf-8\" src=\"/static/js/1.4e83a3d0.chunk.js\"></script><link rel=\"stylesheet\" type=\"text/css\" href=\"/static/css/4.f9b39690.chunk.css\"><script charset=\"utf-8\" src=\"/static/js/4.ec2dfea8.chunk.js\"></script><script charset=\"utf-8\" src=\"/static/js/44.bc4b9547.chunk.js\"></script><script type=\"text/partytown\" src=\"https://www.googletagmanager.com/gtag/js?id=G-Z63X8GDP3C\"></script><script type=\"text/partytown\">window.dataLayer = window.dataLayer || [];function gtag() { dataLayer.push(arguments); }gtag(\\'js\\', new Date());gtag(\\'config\\', \\'G-Z63X8GDP3C\\');</script><meta http-equiv=\"origin-trial\" content=\"Az6AfRvI8mo7yiW5fLfj04W21t0ig6aMsGYpIqMTaX60H+b0DkO1uDr+7BrzMcimWzv/X7SXR8jI+uvbV0IJlwYAAACFeyJvcmlnaW4iOiJodHRwczovL2RvdWJsZWNsaWNrLm5ldDo0NDMiLCJmZWF0dXJlIjoiUHJpdmFjeVNhbmRib3hBZHNBUElzIiwiZXhwaXJ5IjoxNjgwNjUyNzk5LCJpc1N1YmRvbWFpbiI6dHJ1ZSwiaXNUaGlyZFBhcnR5Ijp0cnVlfQ==\"><meta http-equiv=\"origin-trial\" content=\"A+USTya+tNvDPaxUgJooz+LaVk5hPoAxpLvSxjogX4Mk8awCTQ9iop6zJ9d5ldgU7WmHqBlnQB41LHHRFxoaBwoAAACLeyJvcmlnaW4iOiJodHRwczovL2dvb2dsZXN5bmRpY2F0aW9uLmNvbTo0NDMiLCJmZWF0dXJlIjoiUHJpdmFjeVNhbmRib3hBZHNBUElzIiwiZXhwaXJ5IjoxNjgwNjUyNzk5LCJpc1N1YmRvbWFpbiI6dHJ1ZSwiaXNUaGlyZFBhcnR5Ijp0cnVlfQ==\"><meta http-equiv=\"origin-trial\" content=\"A7FovoGr67TUBYbnY+Z0IKoJbbmRmB8fCyirUGHavNDtD91CiGyHHSA2hDG9r9T3NjUKFi6egL3RbgTwhhcVDwUAAACLeyJvcmlnaW4iOiJodHRwczovL2dvb2dsZXRhZ3NlcnZpY2VzLmNvbTo0NDMiLCJmZWF0dXJlIjoiUHJpdmFjeVNhbmRib3hBZHNBUElzIiwiZXhwaXJ5IjoxNjgwNjUyNzk5LCJpc1N1YmRvbWFpbiI6dHJ1ZSwiaXNUaGlyZFBhcnR5Ijp0cnVlfQ==\"><link rel=\"preload\" href=\"https://adservice.google.com/adsid/integrator.js?domain=housestockwatcher.com\" as=\"script\"><script type=\"text/javascript\" src=\"https://adservice.google.com/adsid/integrator.js?domain=housestockwatcher.com\"></script></head><body class=\"text-blueGray-700 antialiased\"><noscript>You need to enable JavaScript to run this app.</noscript><div id=\"root\"><script>!(function(w,p,f,c){c=w[p]=Object.assign(w[p]||{},{\"debug\":false});c[f]=(c[f]||[]).concat([\"dataLayer.push\"])})(window,\\'partytown\\',\\'forward\\');/* Partytown 0.7.3 - MIT builder.io */\\n!function(t,e,n,i,r,o,a,d,s,c,p,l){function u(){l||(l=1,\"/\"==(a=(o.lib||\"/~partytown/\")+(o.debug?\"debug/\":\"\"))[0]&&(s=e.querySelectorAll(\\'script[type=\"text/partytown\"]\\'),i!=t?i.dispatchEvent(new CustomEvent(\"pt1\",{detail:t})):(d=setTimeout(w,1e4),e.addEventListener(\"pt0\",f),r?h(1):n.serviceWorker?n.serviceWorker.register(a+(o.swPath||\"partytown-sw.js\"),{scope:a}).then((function(t){t.active?h():t.installing&&t.installing.addEventListener(\"statechange\",(function(t){\"activated\"==t.target.state&&h()}))}),console.error):w())))}function h(t){c=e.createElement(t?\"script\":\"iframe\"),t||(c.setAttribute(\"style\",\"display:block;width:0;height:0;border:0;visibility:hidden\"),c.setAttribute(\"aria-hidden\",!0)),c.src=a+\"partytown-\"+(t?\"atomics.js?v=0.7.3\":\"sandbox-sw.html?\"+Date.now()),e.body.appendChild(c)}function w(t,n){for(f(),t=0;t<s.length;t++)(n=e.createElement(\"script\")).innerHTML=s[t].innerHTML,e.head.appendChild(n);c&&c.parentNode.removeChild(c)}function f(){clearTimeout(d)}o=t.partytown||{},i==t&&(o.forward||[]).map((function(e){p=t,e.split(\".\").map((function(e,n,i){p=p[i[n]]=n+1<i.length?\"push\"==i[n+1]?[]:p[i[n]]||{}:function(){(t._ptf=t._ptf||[]).push(i,arguments)}}))})),\"complete\"==e.readyState?u():(t.addEventListener(\"DOMContentLoaded\",u),t.addEventListener(\"load\",u))}(window,document,navigator,top,window.crossOriginIsolated);document.currentScript.dataset.partytown=\"\";</script><div class=\"h-screen w-screen flex justify-center items-center\"><div><div class=\"flex justify-center\"><i class=\"fas fa-spinner fa-spin fa-5x opacity-75\"></i></div><p class=\"text-center font-semibold text-gray-500 my-2 text-lg\">Aggregating Disclosures...</p></div></div></div><script>!function(e){function t(t){for(var r,f,a=t[0],o=t[1],u=t[2],i=0,l=[];i<a.length;i++)f=a[i],Object.prototype.hasOwnProperty.call(n,f)&&n[f]&&l.push(n[f][0]),n[f]=0;for(r in o)Object.prototype.hasOwnProperty.call(o,r)&&(e[r]=o[r]);for(s&&s(t);l.length;)l.shift()();return d.push.apply(d,u||[]),c()}function c(){for(var e,t=0;t<d.length;t++){for(var c=d[t],r=!0,f=1;f<c.length;f++){var o=c[f];0!==n[o]&&(r=!1)}r&&(d.splice(t--,1),e=a(a.s=c[0]))}return e}var r={},f={7:0},n={7:0},d=[];function a(t){if(r[t])return r[t].exports;var c=r[t]={i:t,l:!1,exports:{}};return e[t].call(c.exports,c,c.exports,a),c.l=!0,c.exports}a.e=function(e){var t=[];f[e]?t.push(f[e]):0!==f[e]&&{4:1,11:1,13:1,14:1}[e]&&t.push(f[e]=new Promise((function(t,c){for(var r=\"static/css/\"+({}[e]||e)+\".\"+{0:\"31d6cfe0\",1:\"31d6cfe0\",2:\"31d6cfe0\",3:\"31d6cfe0\",4:\"f9b39690\",5:\"31d6cfe0\",9:\"31d6cfe0\",10:\"31d6cfe0\",11:\"f9b39690\",12:\"31d6cfe0\",13:\"f9b39690\",14:\"94ba020d\",15:\"31d6cfe0\",16:\"31d6cfe0\",17:\"31d6cfe0\",18:\"31d6cfe0\",19:\"31d6cfe0\",20:\"31d6cfe0\",21:\"31d6cfe0\",22:\"31d6cfe0\",23:\"31d6cfe0\",24:\"31d6cfe0\",25:\"31d6cfe0\",26:\"31d6cfe0\",27:\"31d6cfe0\",28:\"31d6cfe0\",29:\"31d6cfe0\",30:\"31d6cfe0\",31:\"31d6cfe0\",32:\"31d6cfe0\",33:\"31d6cfe0\",34:\"31d6cfe0\",35:\"31d6cfe0\",36:\"31d6cfe0\",37:\"31d6cfe0\",38:\"31d6cfe0\",39:\"31d6cfe0\",40:\"31d6cfe0\",41:\"31d6cfe0\",42:\"31d6cfe0\",43:\"31d6cfe0\",44:\"31d6cfe0\",45:\"31d6cfe0\",46:\"31d6cfe0\",47:\"31d6cfe0\",48:\"31d6cfe0\",49:\"31d6cfe0\",50:\"31d6cfe0\",51:\"31d6cfe0\",52:\"31d6cfe0\",53:\"31d6cfe0\",54:\"31d6cfe0\",55:\"31d6cfe0\",56:\"31d6cfe0\",57:\"31d6cfe0\",58:\"31d6cfe0\",59:\"31d6cfe0\",60:\"31d6cfe0\",61:\"31d6cfe0\",62:\"31d6cfe0\"}[e]+\".chunk.css\",n=a.p+r,d=document.getElementsByTagName(\"link\"),o=0;o<d.length;o++){var u=(s=d[o]).getAttribute(\"data-href\")||s.getAttribute(\"href\");if(\"stylesheet\"===s.rel&&(u===r||u===n))return t()}var i=document.getElementsByTagName(\"style\");for(o=0;o<i.length;o++){var s;if((u=(s=i[o]).getAttribute(\"data-href\"))===r||u===n)return t()}var l=document.createElement(\"link\");l.rel=\"stylesheet\",l.type=\"text/css\",l.onload=t,l.onerror=function(t){var r=t&&t.target&&t.target.src||n,d=new Error(\"Loading CSS chunk \"+e+\" failed.\\\\n(\"+r+\")\");d.code=\"CSS_CHUNK_LOAD_FAILED\",d.request=r,delete f[e],l.parentNode.removeChild(l),c(d)},l.href=n,document.getElementsByTagName(\"head\")[0].appendChild(l)})).then((function(){f[e]=0})));var c=n[e];if(0!==c)if(c)t.push(c[2]);else{var r=new Promise((function(t,r){c=n[e]=[t,r]}));t.push(c[2]=r);var d,o=document.createElement(\"script\");o.charset=\"utf-8\",o.timeout=120,a.nc&&o.setAttribute(\"nonce\",a.nc),o.src=function(e){return a.p+\"static/js/\"+({}[e]||e)+\".\"+{0:\"d01db47b\",1:\"4e83a3d0\",2:\"60559304\",3:\"fecf4f77\",4:\"ec2dfea8\",5:\"89c82da8\",9:\"c2279ade\",10:\"94ef7abb\",11:\"e47c821c\",12:\"89816c15\",13:\"669c11de\",14:\"9d87a7c8\",15:\"caad30d5\",16:\"08552905\",17:\"72362578\",18:\"2e59b781\",19:\"33da28a4\",20:\"9e73c528\",21:\"311a6cfa\",22:\"42a043c4\",23:\"8378234d\",24:\"36601a9e\",25:\"6bb9b227\",26:\"f56e2ea6\",27:\"c71b05c4\",28:\"545e2fd2\",29:\"f9ab5477\",30:\"1c2a2b52\",31:\"1ac511cd\",32:\"7a79ca3e\",33:\"64a06085\",34:\"5d1a4019\",35:\"85d0a02e\",36:\"e6a4d9af\",37:\"ee124d25\",38:\"a50ab8b0\",39:\"3f7088f5\",40:\"6b62532e\",41:\"be42f6da\",42:\"b927d11a\",43:\"05fa19ec\",44:\"bc4b9547\",45:\"b65716d5\",46:\"12b982b5\",47:\"6d63066d\",48:\"02357e4a\",49:\"dd5f50ac\",50:\"72faeefc\",51:\"54c9c16b\",52:\"a80b8ed4\",53:\"39c439a9\",54:\"4c1a4f2c\",55:\"4e710411\",56:\"9668c3de\",57:\"f9e2dac9\",58:\"fc39511c\",59:\"6dbb78f0\",60:\"ade56b00\",61:\"1173c5b5\",62:\"e5b1fce5\"}[e]+\".chunk.js\"}(e);var u=new Error;d=function(t){o.onerror=o.onload=null,clearTimeout(i);var c=n[e];if(0!==c){if(c){var r=t&&(\"load\"===t.type?\"missing\":t.type),f=t&&t.target&&t.target.src;u.message=\"Loading chunk \"+e+\" failed.\\\\n(\"+r+\": \"+f+\")\",u.name=\"ChunkLoadError\",u.type=r,u.request=f,c[1](u)}n[e]=void 0}};var i=setTimeout((function(){d({type:\"timeout\",target:o})}),12e4);o.onerror=o.onload=d,document.head.appendChild(o)}return Promise.all(t)},a.m=e,a.c=r,a.d=function(e,t,c){a.o(e,t)||Object.defineProperty(e,t,{enumerable:!0,get:c})},a.r=function(e){\"undefined\"!=typeof Symbol&&Symbol.toStringTag&&Object.defineProperty(e,Symbol.toStringTag,{value:\"Module\"}),Object.defineProperty(e,\"__esModule\",{value:!0})},a.t=function(e,t){if(1&t&&(e=a(e)),8&t)return e;if(4&t&&\"object\"==typeof e&&e&&e.__esModule)return e;var c=Object.create(null);if(a.r(c),Object.defineProperty(c,\"default\",{enumerable:!0,value:e}),2&t&&\"string\"!=typeof e)for(var r in e)a.d(c,r,function(t){return e[t]}.bind(null,r));return c},a.n=function(e){var t=e&&e.__esModule?function(){return e.default}:function(){return e};return a.d(t,\"a\",t),t},a.o=function(e,t){return Object.prototype.hasOwnProperty.call(e,t)},a.p=\"/\",a.oe=function(e){throw console.error(e),e};var o=this[\"webpackJsonphouse-stock-watcher-frontend\"]=this[\"webpackJsonphouse-stock-watcher-frontend\"]||[],u=o.push.bind(o);o.push=t,o=o.slice();for(var i=0;i<o.length;i++)t(o[i]);var s=u;c()}([])</script><script src=\"/static/js/8.e0ea554a.chunk.js\"></script><script src=\"/static/js/main.bb1b60da.chunk.js\"></script><ins class=\"adsbygoogle adsbygoogle-noablate\" data-adsbygoogle-status=\"done\" style=\"display: none !important;\"><div id=\"aswift_0_host\" style=\"border: none; height: 0px; width: 0px; margin: 0px; padding: 0px; position: relative; visibility: visible; background-color: transparent; display: inline-block;\" tabindex=\"0\" title=\"Advertisement\" aria-label=\"Advertisement\"><iframe id=\"aswift_0\" name=\"aswift_0\" style=\"left:0;position:absolute;top:0;border:0;width:undefinedpx;height:undefinedpx;\" sandbox=\"allow-forms allow-popups allow-popups-to-escape-sandbox allow-same-origin allow-scripts allow-top-navigation-by-user-activation\" frameborder=\"0\" marginwidth=\"0\" marginheight=\"0\" vspace=\"0\" hspace=\"0\" allowtransparency=\"true\" scrolling=\"no\" src=\"https://googleads.g.doubleclick.net/pagead/ads?client=ca-pub-2466331850146937&amp;output=html&amp;adk=1812271804&amp;adf=3025194257&amp;lmt=1674698198&amp;plat=1%3A8%2C2%3A8%2C3%3A65536%2C4%3A65536%2C9%3A32776%2C16%3A8388608%2C17%3A32%2C24%3A32%2C25%3A32%2C30%3A1048576%2C32%3A32%2C41%3A32%2C42%3A32&amp;format=0x0&amp;url=https%3A%2F%2Fhousestockwatcher.com%2Fsummary_by_rep&amp;ea=0&amp;pra=5&amp;wgl=1&amp;uach=WyJXaW5kb3dzIiwiMTAuMC4wIiwieDg2IiwiIiwiMTA5LjAuNTQxNC4xMjAiLFtdLGZhbHNlLG51bGwsIjY0IixbWyJOb3RfQSBCcmFuZCIsIjk5LjAuMC4wIl0sWyJHb29nbGUgQ2hyb21lIiwiMTA5LjAuNTQxNC4xMjAiXSxbIkNocm9taXVtIiwiMTA5LjAuNTQxNC4xMjAiXV0sZmFsc2Vd&amp;dt=1676254785501&amp;bpp=2&amp;bdt=303&amp;idt=343&amp;shv=r20230207&amp;mjsv=m202302080101&amp;ptt=9&amp;saldr=aa&amp;abxe=1&amp;nras=1&amp;correlator=5520747381941&amp;frm=20&amp;pv=2&amp;ga_vid=2110346006.1676254786&amp;ga_sid=1676254786&amp;ga_hid=1841713817&amp;ga_fc=0&amp;u_tz=-480&amp;u_his=2&amp;u_h=1080&amp;u_w=1920&amp;u_ah=1040&amp;u_aw=1920&amp;u_cd=24&amp;u_sd=1&amp;dmc=8&amp;adx=-12245933&amp;ady=-12245933&amp;biw=929&amp;bih=887&amp;scr_x=0&amp;scr_y=0&amp;eid=44773809%2C44759927%2C44759876%2C44759842%2C31072254%2C31072272%2C31072229&amp;oid=2&amp;pvsid=49781480395094&amp;tmod=642738315&amp;uas=0&amp;nvt=1&amp;eae=2&amp;fc=1920&amp;brdim=10%2C10%2C10%2C10%2C1920%2C0%2C945%2C1020%2C929%2C887&amp;vis=1&amp;rsz=%7C%7Cs%7C&amp;abl=NS&amp;fu=32768&amp;bc=31&amp;ifi=1&amp;uci=a!1&amp;fsb=1&amp;dtd=361\" data-google-container-id=\"a!1\" data-load-complete=\"true\"></iframe></div></ins><iframe style=\"display:block;width:0;height:0;border:0;visibility:hidden\" aria-hidden=\"true\" src=\"/~partytown/partytown-sandbox-sw.html?1676254785550\"></iframe></body><iframe id=\"google_esf\" name=\"google_esf\" src=\"https://googleads.g.doubleclick.net/pagead/html/r20230207/r20190131/zrt_lookup.html\" style=\"display: none;\"></iframe></html>'"
      ]
     },
     "execution_count": 8,
     "metadata": {},
     "output_type": "execute_result"
    }
   ],
   "source": [
    "url = \"https://housestockwatcher.com/summary_by_rep\"\n",
    "dr = webdriver.Chrome()\n",
    "dr.get(url)\n",
    "data = dr.page_source\n",
    "data\n",
    "# dr.implicitly_wait(3)\n",
    "# for i in no_party:\n",
    "#     dr.find_element_by_name(i)\n"
   ]
  },
  {
   "cell_type": "code",
   "execution_count": 9,
   "metadata": {},
   "outputs": [
    {
     "data": {
      "text/plain": [
       "['<html lang=\"en\"',\n",
       " 'head',\n",
       " 'meta charset=\"utf-8\"',\n",
       " 'meta name=\"viewport\" content=\"width=device-width,initial-scale=1\"',\n",
       " 'meta http-equiv=\"X-UA-Compatible\" content=\"IE=edge,chrome=1\"',\n",
       " 'meta content=\"width=device-width,initial-scale=1,shrink-to-fit=no\" name=\"viewport\"',\n",
       " 'meta name=\"title\" content=\"House Stock Watcher - See What Your Representative Is Trading\"',\n",
       " 'meta name=\"description\" content=\"Updated Daily - See the stock trades US Representatives are making as they are reported. Get notifications when new reports are uploaded. Get insight now!\"',\n",
       " 'meta property=\"og:type\" content=\"website\"',\n",
       " 'meta property=\"og:url\" content=\"https://housestockwatcher.com\"',\n",
       " 'meta property=\"og:title\" content=\"House Stock Watcher - See What Your Representative Is Trading\"',\n",
       " 'meta property=\"og:description\" content=\"Updated Daily - See the stock trades US Representatives are making as they are reported. Get notifications when new reports are uploaded. Get insight now!\"',\n",
       " 'meta property=\"og:image\" content=\"https://housestockwatcher.com/promo1.png\"',\n",
       " 'meta property=\"twitter:card\" content=\"summary_large_image\"',\n",
       " 'meta property=\"twitter:url\" content=\"https://housestockwatcher.com/\"',\n",
       " 'meta property=\"twitter:title\" content=\"House Stock Watcher - See What Your Representative Is Trading\"',\n",
       " 'meta property=\"twitter:description\" content=\"Updated Daily - See the stock trades US Representatives are making as they are reported. Get notifications when new reports are uploaded. Get insight now!\"',\n",
       " 'meta property=\"twitter:image\" content=\"https://housestockwatcher.com/promo1.png\"',\n",
       " 'title>House Stock Watcher - Trading Summary for Your Representative</title',\n",
       " 'link rel=\"shortcut icon\" href=\"/favicon.png\"',\n",
       " 'link rel=\"apple-touch-icon\" sizes=\"76x76\" href=\"/apple-icon.png\"',\n",
       " 'link rel=\"manifest\" href=\"/manifest.json\"',\n",
       " 'link rel=\"stylesheet\" href=\"/tailwind.min.css\"',\n",
       " 'link href=\"https://unpkg.com/tailwindcss@^2/dist/tailwind.min.css\" rel=\"stylesheet\"',\n",
       " 'script src=\"https://partner.googleadservices.com/gampad/cookie.js?domain=housestockwatcher.com&amp;callback=_gfp_s_&amp;client=ca-pub-2466331850146937\"',\n",
       " '/script',\n",
       " 'script src=\"https://pagead2.googlesyndication.com/pagead/managed/js/adsense/m202302080101/show_ads_impl_fy2021.js?bust=31072272\" id=\"google_shimpl\"',\n",
       " '/script',\n",
       " 'script async=\"\" src=\"https://pagead2.googlesyndication.com/pagead/js/adsbygoogle.js?client=ca-pub-2466331850146937\" crossorigin=\"anonymous\" data-checked-head=\"true\"',\n",
       " '/script',\n",
       " 'link href=\"/static/css/8.64714940.chunk.css\" rel=\"stylesheet\"',\n",
       " 'script data-partytown=\"\">!(function(w,p,f,c){c=w[p]=Object.assign(w[p]||{},{\"debug\":false});c[f]=(c[f]||[]).concat([\"dataLayer.push\"])})(window,\\'partytown\\',\\'forward\\');/* Partytown 0.7.3 - MIT builder.io */\\n!function(t,e,n,i,r,o,a,d,s,c,p,l){function u(){l||(l=1,\"/\"==(a=(o.lib||\"/~partytown/\")+(o.debug?\"debug/\":\"\"))[0]&&(s=e.querySelectorAll(\\'script[type=\"text/partytown\"]\\'),i!=t?i.dispatchEvent(new CustomEvent(\"pt1\",{detail:t})):(d=setTimeout(w,1e4),e.addEventListener(\"pt0\",f),r?h(1):n.serviceWorker?n.serviceWorker.register(a+(o.swPath||\"partytown-sw.js\"),{scope:a}).then((function(t){t.active?h():t.installing&&t.installing.addEventListener(\"statechange\",(function(t){\"activated\"==t.target.state&&h()}))}),console.error):w())))}function h(t){c=e.createElement(t?\"script\":\"iframe\"),t||(c.setAttribute(\"style\",\"display:block;width:0;height:0;border:0;visibility:hidden\"),c.setAttribute(\"aria-hidden\",!0)),c.src=a+\"partytown-\"+(t?\"atomics.js?v=0.7.3\":\"sandbox-sw.html?\"+Date.now()),e.body.appendChild(c)}function w(t,n){for(f(),t=0;t<s.length;t++)(n=e.createElement(\"script\")).innerHTML=s[t].innerHTML,e.head.appendChild(n);c&&c.parentNode.removeChild(c)}function f(){clearTimeout(d)}o=t.partytown||{},i==t&&(o.forward||[]).map((function(e){p=t,e.split(\".\").map((function(e,n,i){p=p[i[n]]=n+1<i.length?\"push\"==i[n+1]?[]:p[i[n]]||{}:function(){(t._ptf=t._ptf||[]).push(i,arguments)}}))})),\"complete\"==e.readyState?u():(t.addEventListener(\"DOMContentLoaded\",u),t.addEventListener(\"load\",u))}(window,document,navigator,top,window.crossOriginIsolated);</script',\n",
       " 'script charset=\"utf-8\" src=\"/static/js/1.4e83a3d0.chunk.js\"',\n",
       " '/script',\n",
       " 'link rel=\"stylesheet\" type=\"text/css\" href=\"/static/css/4.f9b39690.chunk.css\"',\n",
       " 'script charset=\"utf-8\" src=\"/static/js/4.ec2dfea8.chunk.js\"',\n",
       " '/script',\n",
       " 'script charset=\"utf-8\" src=\"/static/js/44.bc4b9547.chunk.js\"',\n",
       " '/script',\n",
       " 'script type=\"text/partytown\" src=\"https://www.googletagmanager.com/gtag/js?id=G-Z63X8GDP3C\"',\n",
       " '/script',\n",
       " 'script type=\"text/partytown\">window.dataLayer = window.dataLayer || [];function gtag() { dataLayer.push(arguments); }gtag(\\'js\\', new Date());gtag(\\'config\\', \\'G-Z63X8GDP3C\\');</script',\n",
       " 'meta http-equiv=\"origin-trial\" content=\"Az6AfRvI8mo7yiW5fLfj04W21t0ig6aMsGYpIqMTaX60H+b0DkO1uDr+7BrzMcimWzv/X7SXR8jI+uvbV0IJlwYAAACFeyJvcmlnaW4iOiJodHRwczovL2RvdWJsZWNsaWNrLm5ldDo0NDMiLCJmZWF0dXJlIjoiUHJpdmFjeVNhbmRib3hBZHNBUElzIiwiZXhwaXJ5IjoxNjgwNjUyNzk5LCJpc1N1YmRvbWFpbiI6dHJ1ZSwiaXNUaGlyZFBhcnR5Ijp0cnVlfQ==\"',\n",
       " 'meta http-equiv=\"origin-trial\" content=\"A+USTya+tNvDPaxUgJooz+LaVk5hPoAxpLvSxjogX4Mk8awCTQ9iop6zJ9d5ldgU7WmHqBlnQB41LHHRFxoaBwoAAACLeyJvcmlnaW4iOiJodHRwczovL2dvb2dsZXN5bmRpY2F0aW9uLmNvbTo0NDMiLCJmZWF0dXJlIjoiUHJpdmFjeVNhbmRib3hBZHNBUElzIiwiZXhwaXJ5IjoxNjgwNjUyNzk5LCJpc1N1YmRvbWFpbiI6dHJ1ZSwiaXNUaGlyZFBhcnR5Ijp0cnVlfQ==\"',\n",
       " 'meta http-equiv=\"origin-trial\" content=\"A7FovoGr67TUBYbnY+Z0IKoJbbmRmB8fCyirUGHavNDtD91CiGyHHSA2hDG9r9T3NjUKFi6egL3RbgTwhhcVDwUAAACLeyJvcmlnaW4iOiJodHRwczovL2dvb2dsZXRhZ3NlcnZpY2VzLmNvbTo0NDMiLCJmZWF0dXJlIjoiUHJpdmFjeVNhbmRib3hBZHNBUElzIiwiZXhwaXJ5IjoxNjgwNjUyNzk5LCJpc1N1YmRvbWFpbiI6dHJ1ZSwiaXNUaGlyZFBhcnR5Ijp0cnVlfQ==\"',\n",
       " 'link rel=\"preload\" href=\"https://adservice.google.com/adsid/integrator.js?domain=housestockwatcher.com\" as=\"script\"',\n",
       " 'script type=\"text/javascript\" src=\"https://adservice.google.com/adsid/integrator.js?domain=housestockwatcher.com\"',\n",
       " '/script',\n",
       " '/head',\n",
       " 'body class=\"text-blueGray-700 antialiased\"',\n",
       " 'noscript>You need to enable JavaScript to run this app.</noscript',\n",
       " 'div id=\"root\"',\n",
       " 'script>!(function(w,p,f,c){c=w[p]=Object.assign(w[p]||{},{\"debug\":false});c[f]=(c[f]||[]).concat([\"dataLayer.push\"])})(window,\\'partytown\\',\\'forward\\');/* Partytown 0.7.3 - MIT builder.io */\\n!function(t,e,n,i,r,o,a,d,s,c,p,l){function u(){l||(l=1,\"/\"==(a=(o.lib||\"/~partytown/\")+(o.debug?\"debug/\":\"\"))[0]&&(s=e.querySelectorAll(\\'script[type=\"text/partytown\"]\\'),i!=t?i.dispatchEvent(new CustomEvent(\"pt1\",{detail:t})):(d=setTimeout(w,1e4),e.addEventListener(\"pt0\",f),r?h(1):n.serviceWorker?n.serviceWorker.register(a+(o.swPath||\"partytown-sw.js\"),{scope:a}).then((function(t){t.active?h():t.installing&&t.installing.addEventListener(\"statechange\",(function(t){\"activated\"==t.target.state&&h()}))}),console.error):w())))}function h(t){c=e.createElement(t?\"script\":\"iframe\"),t||(c.setAttribute(\"style\",\"display:block;width:0;height:0;border:0;visibility:hidden\"),c.setAttribute(\"aria-hidden\",!0)),c.src=a+\"partytown-\"+(t?\"atomics.js?v=0.7.3\":\"sandbox-sw.html?\"+Date.now()),e.body.appendChild(c)}function w(t,n){for(f(),t=0;t<s.length;t++)(n=e.createElement(\"script\")).innerHTML=s[t].innerHTML,e.head.appendChild(n);c&&c.parentNode.removeChild(c)}function f(){clearTimeout(d)}o=t.partytown||{},i==t&&(o.forward||[]).map((function(e){p=t,e.split(\".\").map((function(e,n,i){p=p[i[n]]=n+1<i.length?\"push\"==i[n+1]?[]:p[i[n]]||{}:function(){(t._ptf=t._ptf||[]).push(i,arguments)}}))})),\"complete\"==e.readyState?u():(t.addEventListener(\"DOMContentLoaded\",u),t.addEventListener(\"load\",u))}(window,document,navigator,top,window.crossOriginIsolated);document.currentScript.dataset.partytown=\"\";</script',\n",
       " 'div class=\"h-screen w-screen flex justify-center items-center\"',\n",
       " 'div',\n",
       " 'div class=\"flex justify-center\"',\n",
       " 'i class=\"fas fa-spinner fa-spin fa-5x opacity-75\"',\n",
       " '/i',\n",
       " '/div',\n",
       " 'p class=\"text-center font-semibold text-gray-500 my-2 text-lg\">Aggregating Disclosures...</p',\n",
       " '/div',\n",
       " '/div',\n",
       " '/div',\n",
       " 'script>!function(e){function t(t){for(var r,f,a=t[0],o=t[1],u=t[2],i=0,l=[];i<a.length;i++)f=a[i],Object.prototype.hasOwnProperty.call(n,f)&&n[f]&&l.push(n[f][0]),n[f]=0;for(r in o)Object.prototype.hasOwnProperty.call(o,r)&&(e[r]=o[r]);for(s&&s(t);l.length;)l.shift()();return d.push.apply(d,u||[]),c()}function c(){for(var e,t=0;t<d.length;t++){for(var c=d[t],r=!0,f=1;f<c.length;f++){var o=c[f];0!==n[o]&&(r=!1)}r&&(d.splice(t--,1),e=a(a.s=c[0]))}return e}var r={},f={7:0},n={7:0},d=[];function a(t){if(r[t])return r[t].exports;var c=r[t]={i:t,l:!1,exports:{}};return e[t].call(c.exports,c,c.exports,a),c.l=!0,c.exports}a.e=function(e){var t=[];f[e]?t.push(f[e]):0!==f[e]&&{4:1,11:1,13:1,14:1}[e]&&t.push(f[e]=new Promise((function(t,c){for(var r=\"static/css/\"+({}[e]||e)+\".\"+{0:\"31d6cfe0\",1:\"31d6cfe0\",2:\"31d6cfe0\",3:\"31d6cfe0\",4:\"f9b39690\",5:\"31d6cfe0\",9:\"31d6cfe0\",10:\"31d6cfe0\",11:\"f9b39690\",12:\"31d6cfe0\",13:\"f9b39690\",14:\"94ba020d\",15:\"31d6cfe0\",16:\"31d6cfe0\",17:\"31d6cfe0\",18:\"31d6cfe0\",19:\"31d6cfe0\",20:\"31d6cfe0\",21:\"31d6cfe0\",22:\"31d6cfe0\",23:\"31d6cfe0\",24:\"31d6cfe0\",25:\"31d6cfe0\",26:\"31d6cfe0\",27:\"31d6cfe0\",28:\"31d6cfe0\",29:\"31d6cfe0\",30:\"31d6cfe0\",31:\"31d6cfe0\",32:\"31d6cfe0\",33:\"31d6cfe0\",34:\"31d6cfe0\",35:\"31d6cfe0\",36:\"31d6cfe0\",37:\"31d6cfe0\",38:\"31d6cfe0\",39:\"31d6cfe0\",40:\"31d6cfe0\",41:\"31d6cfe0\",42:\"31d6cfe0\",43:\"31d6cfe0\",44:\"31d6cfe0\",45:\"31d6cfe0\",46:\"31d6cfe0\",47:\"31d6cfe0\",48:\"31d6cfe0\",49:\"31d6cfe0\",50:\"31d6cfe0\",51:\"31d6cfe0\",52:\"31d6cfe0\",53:\"31d6cfe0\",54:\"31d6cfe0\",55:\"31d6cfe0\",56:\"31d6cfe0\",57:\"31d6cfe0\",58:\"31d6cfe0\",59:\"31d6cfe0\",60:\"31d6cfe0\",61:\"31d6cfe0\",62:\"31d6cfe0\"}[e]+\".chunk.css\",n=a.p+r,d=document.getElementsByTagName(\"link\"),o=0;o<d.length;o++){var u=(s=d[o]).getAttribute(\"data-href\")||s.getAttribute(\"href\");if(\"stylesheet\"===s.rel&&(u===r||u===n))return t()}var i=document.getElementsByTagName(\"style\");for(o=0;o<i.length;o++){var s;if((u=(s=i[o]).getAttribute(\"data-href\"))===r||u===n)return t()}var l=document.createElement(\"link\");l.rel=\"stylesheet\",l.type=\"text/css\",l.onload=t,l.onerror=function(t){var r=t&&t.target&&t.target.src||n,d=new Error(\"Loading CSS chunk \"+e+\" failed.\\\\n(\"+r+\")\");d.code=\"CSS_CHUNK_LOAD_FAILED\",d.request=r,delete f[e],l.parentNode.removeChild(l),c(d)},l.href=n,document.getElementsByTagName(\"head\")[0].appendChild(l)})).then((function(){f[e]=0})));var c=n[e];if(0!==c)if(c)t.push(c[2]);else{var r=new Promise((function(t,r){c=n[e]=[t,r]}));t.push(c[2]=r);var d,o=document.createElement(\"script\");o.charset=\"utf-8\",o.timeout=120,a.nc&&o.setAttribute(\"nonce\",a.nc),o.src=function(e){return a.p+\"static/js/\"+({}[e]||e)+\".\"+{0:\"d01db47b\",1:\"4e83a3d0\",2:\"60559304\",3:\"fecf4f77\",4:\"ec2dfea8\",5:\"89c82da8\",9:\"c2279ade\",10:\"94ef7abb\",11:\"e47c821c\",12:\"89816c15\",13:\"669c11de\",14:\"9d87a7c8\",15:\"caad30d5\",16:\"08552905\",17:\"72362578\",18:\"2e59b781\",19:\"33da28a4\",20:\"9e73c528\",21:\"311a6cfa\",22:\"42a043c4\",23:\"8378234d\",24:\"36601a9e\",25:\"6bb9b227\",26:\"f56e2ea6\",27:\"c71b05c4\",28:\"545e2fd2\",29:\"f9ab5477\",30:\"1c2a2b52\",31:\"1ac511cd\",32:\"7a79ca3e\",33:\"64a06085\",34:\"5d1a4019\",35:\"85d0a02e\",36:\"e6a4d9af\",37:\"ee124d25\",38:\"a50ab8b0\",39:\"3f7088f5\",40:\"6b62532e\",41:\"be42f6da\",42:\"b927d11a\",43:\"05fa19ec\",44:\"bc4b9547\",45:\"b65716d5\",46:\"12b982b5\",47:\"6d63066d\",48:\"02357e4a\",49:\"dd5f50ac\",50:\"72faeefc\",51:\"54c9c16b\",52:\"a80b8ed4\",53:\"39c439a9\",54:\"4c1a4f2c\",55:\"4e710411\",56:\"9668c3de\",57:\"f9e2dac9\",58:\"fc39511c\",59:\"6dbb78f0\",60:\"ade56b00\",61:\"1173c5b5\",62:\"e5b1fce5\"}[e]+\".chunk.js\"}(e);var u=new Error;d=function(t){o.onerror=o.onload=null,clearTimeout(i);var c=n[e];if(0!==c){if(c){var r=t&&(\"load\"===t.type?\"missing\":t.type),f=t&&t.target&&t.target.src;u.message=\"Loading chunk \"+e+\" failed.\\\\n(\"+r+\": \"+f+\")\",u.name=\"ChunkLoadError\",u.type=r,u.request=f,c[1](u)}n[e]=void 0}};var i=setTimeout((function(){d({type:\"timeout\",target:o})}),12e4);o.onerror=o.onload=d,document.head.appendChild(o)}return Promise.all(t)},a.m=e,a.c=r,a.d=function(e,t,c){a.o(e,t)||Object.defineProperty(e,t,{enumerable:!0,get:c})},a.r=function(e){\"undefined\"!=typeof Symbol&&Symbol.toStringTag&&Object.defineProperty(e,Symbol.toStringTag,{value:\"Module\"}),Object.defineProperty(e,\"__esModule\",{value:!0})},a.t=function(e,t){if(1&t&&(e=a(e)),8&t)return e;if(4&t&&\"object\"==typeof e&&e&&e.__esModule)return e;var c=Object.create(null);if(a.r(c),Object.defineProperty(c,\"default\",{enumerable:!0,value:e}),2&t&&\"string\"!=typeof e)for(var r in e)a.d(c,r,function(t){return e[t]}.bind(null,r));return c},a.n=function(e){var t=e&&e.__esModule?function(){return e.default}:function(){return e};return a.d(t,\"a\",t),t},a.o=function(e,t){return Object.prototype.hasOwnProperty.call(e,t)},a.p=\"/\",a.oe=function(e){throw console.error(e),e};var o=this[\"webpackJsonphouse-stock-watcher-frontend\"]=this[\"webpackJsonphouse-stock-watcher-frontend\"]||[],u=o.push.bind(o);o.push=t,o=o.slice();for(var i=0;i<o.length;i++)t(o[i]);var s=u;c()}([])</script',\n",
       " 'script src=\"/static/js/8.e0ea554a.chunk.js\"',\n",
       " '/script',\n",
       " 'script src=\"/static/js/main.bb1b60da.chunk.js\"',\n",
       " '/script',\n",
       " 'ins class=\"adsbygoogle adsbygoogle-noablate\" data-adsbygoogle-status=\"done\" style=\"display: none !important;\"',\n",
       " 'div id=\"aswift_0_host\" style=\"border: none; height: 0px; width: 0px; margin: 0px; padding: 0px; position: relative; visibility: visible; background-color: transparent; display: inline-block;\" tabindex=\"0\" title=\"Advertisement\" aria-label=\"Advertisement\"',\n",
       " 'iframe id=\"aswift_0\" name=\"aswift_0\" style=\"left:0;position:absolute;top:0;border:0;width:undefinedpx;height:undefinedpx;\" sandbox=\"allow-forms allow-popups allow-popups-to-escape-sandbox allow-same-origin allow-scripts allow-top-navigation-by-user-activation\" frameborder=\"0\" marginwidth=\"0\" marginheight=\"0\" vspace=\"0\" hspace=\"0\" allowtransparency=\"true\" scrolling=\"no\" src=\"https://googleads.g.doubleclick.net/pagead/ads?client=ca-pub-2466331850146937&amp;output=html&amp;adk=1812271804&amp;adf=3025194257&amp;lmt=1674698198&amp;plat=1%3A8%2C2%3A8%2C3%3A65536%2C4%3A65536%2C9%3A32776%2C16%3A8388608%2C17%3A32%2C24%3A32%2C25%3A32%2C30%3A1048576%2C32%3A32%2C41%3A32%2C42%3A32&amp;format=0x0&amp;url=https%3A%2F%2Fhousestockwatcher.com%2Fsummary_by_rep&amp;ea=0&amp;pra=5&amp;wgl=1&amp;uach=WyJXaW5kb3dzIiwiMTAuMC4wIiwieDg2IiwiIiwiMTA5LjAuNTQxNC4xMjAiLFtdLGZhbHNlLG51bGwsIjY0IixbWyJOb3RfQSBCcmFuZCIsIjk5LjAuMC4wIl0sWyJHb29nbGUgQ2hyb21lIiwiMTA5LjAuNTQxNC4xMjAiXSxbIkNocm9taXVtIiwiMTA5LjAuNTQxNC4xMjAiXV0sZmFsc2Vd&amp;dt=1676254785501&amp;bpp=2&amp;bdt=303&amp;idt=343&amp;shv=r20230207&amp;mjsv=m202302080101&amp;ptt=9&amp;saldr=aa&amp;abxe=1&amp;nras=1&amp;correlator=5520747381941&amp;frm=20&amp;pv=2&amp;ga_vid=2110346006.1676254786&amp;ga_sid=1676254786&amp;ga_hid=1841713817&amp;ga_fc=0&amp;u_tz=-480&amp;u_his=2&amp;u_h=1080&amp;u_w=1920&amp;u_ah=1040&amp;u_aw=1920&amp;u_cd=24&amp;u_sd=1&amp;dmc=8&amp;adx=-12245933&amp;ady=-12245933&amp;biw=929&amp;bih=887&amp;scr_x=0&amp;scr_y=0&amp;eid=44773809%2C44759927%2C44759876%2C44759842%2C31072254%2C31072272%2C31072229&amp;oid=2&amp;pvsid=49781480395094&amp;tmod=642738315&amp;uas=0&amp;nvt=1&amp;eae=2&amp;fc=1920&amp;brdim=10%2C10%2C10%2C10%2C1920%2C0%2C945%2C1020%2C929%2C887&amp;vis=1&amp;rsz=%7C%7Cs%7C&amp;abl=NS&amp;fu=32768&amp;bc=31&amp;ifi=1&amp;uci=a!1&amp;fsb=1&amp;dtd=361\" data-google-container-id=\"a!1\" data-load-complete=\"true\"',\n",
       " '/iframe',\n",
       " '/div',\n",
       " '/ins',\n",
       " 'iframe style=\"display:block;width:0;height:0;border:0;visibility:hidden\" aria-hidden=\"true\" src=\"/~partytown/partytown-sandbox-sw.html?1676254785550\"',\n",
       " '/iframe',\n",
       " '/body',\n",
       " 'iframe id=\"google_esf\" name=\"google_esf\" src=\"https://googleads.g.doubleclick.net/pagead/html/r20230207/r20190131/zrt_lookup.html\" style=\"display: none;\"',\n",
       " '/iframe',\n",
       " '/html>']"
      ]
     },
     "execution_count": 9,
     "metadata": {},
     "output_type": "execute_result"
    }
   ],
   "source": [
    "data.split(\"><\")"
   ]
  },
  {
   "cell_type": "code",
   "execution_count": 10,
   "metadata": {},
   "outputs": [
    {
     "name": "stdout",
     "output_type": "stream",
     "text": [
      "<div id=\"root\"><script>!(function(w,p,f,c){c=w[p]=Object.assign(w[p]||{},{\"debug\":false});c[f]=(c[f]||[]).concat([\"dataLayer.push\"])})(window,'partytown','forward');/* Partytown 0.7.3 - MIT builder.io */\n",
      "!function(t,e,n,i,r,o,a,d,s,c,p,l){function u(){l||(l=1,\"/\"==(a=(o.lib||\"/~partytown/\")+(o.debug?\"debug/\":\"\"))[0]&&(s=e.querySelectorAll('script[type=\"text/partytown\"]'),i!=t?i.dispatchEvent(new CustomEvent(\"pt1\",{detail:t})):(d=setTimeout(w,1e4),e.addEventListener(\"pt0\",f),r?h(1):n.serviceWorker?n.serviceWorker.register(a+(o.swPath||\"partytown-sw.js\"),{scope:a}).then((function(t){t.active?h():t.installing&&t.installing.addEventListener(\"statechange\",(function(t){\"activated\"==t.target.state&&h()}))}),console.error):w())))}function h(t){c=e.createElement(t?\"script\":\"iframe\"),t||(c.setAttribute(\"style\",\"display:block;width:0;height:0;border:0;visibility:hidden\"),c.setAttribute(\"aria-hidden\",!0)),c.src=a+\"partytown-\"+(t?\"atomics.js?v=0.7.3\":\"sandbox-sw.html?\"+Date.now()),e.body.appendChild(c)}function w(t,n){for(f(),t=0;t<s.length;t++)(n=e.createElement(\"script\")).innerHTML=s[t].innerHTML,e.head.appendChild(n);c&&c.parentNode.removeChild(c)}function f(){clearTimeout(d)}o=t.partytown||{},i==t&&(o.forward||[]).map((function(e){p=t,e.split(\".\").map((function(e,n,i){p=p[i[n]]=n+1<i.length?\"push\"==i[n+1]?[]:p[i[n]]||{}:function(){(t._ptf=t._ptf||[]).push(i,arguments)}}))})),\"complete\"==e.readyState?u():(t.addEventListener(\"DOMContentLoaded\",u),t.addEventListener(\"load\",u))}(window,document,navigator,top,window.crossOriginIsolated);document.currentScript.dataset.partytown=\"\";</script><div class=\"h-screen w-screen flex justify-center items-center\"><div><div class=\"flex justify-center\"><i class=\"fas fa-spinner fa-spin fa-5x opacity-75\"></i></div><p class=\"text-center font-semibold text-gray-500 my-2 text-lg\">Aggregating Disclosures...</p></div></div></div>\n",
      "<div class=\"h-screen w-screen flex justify-center items-center\"><div><div class=\"flex justify-center\"><i class=\"fas fa-spinner fa-spin fa-5x opacity-75\"></i></div><p class=\"text-center font-semibold text-gray-500 my-2 text-lg\">Aggregating Disclosures...</p></div></div>\n",
      "<div><div class=\"flex justify-center\"><i class=\"fas fa-spinner fa-spin fa-5x opacity-75\"></i></div><p class=\"text-center font-semibold text-gray-500 my-2 text-lg\">Aggregating Disclosures...</p></div>\n",
      "<div class=\"flex justify-center\"><i class=\"fas fa-spinner fa-spin fa-5x opacity-75\"></i></div>\n",
      "<div aria-label=\"Advertisement\" id=\"aswift_0_host\" style=\"border: none; height: 0px; width: 0px; margin: 0px; padding: 0px; position: relative; visibility: visible; background-color: transparent; display: inline-block;\" tabindex=\"0\" title=\"Advertisement\"><iframe allowtransparency=\"true\" data-google-container-id=\"a!1\" data-load-complete=\"true\" frameborder=\"0\" hspace=\"0\" id=\"aswift_0\" marginheight=\"0\" marginwidth=\"0\" name=\"aswift_0\" sandbox=\"allow-forms allow-popups allow-popups-to-escape-sandbox allow-same-origin allow-scripts allow-top-navigation-by-user-activation\" scrolling=\"no\" src=\"https://googleads.g.doubleclick.net/pagead/ads?client=ca-pub-2466331850146937&amp;output=html&amp;adk=1812271804&amp;adf=3025194257&amp;lmt=1674698198&amp;plat=1%3A8%2C2%3A8%2C3%3A65536%2C4%3A65536%2C9%3A32776%2C16%3A8388608%2C17%3A32%2C24%3A32%2C25%3A32%2C30%3A1048576%2C32%3A32%2C41%3A32%2C42%3A32&amp;format=0x0&amp;url=https%3A%2F%2Fhousestockwatcher.com%2Fsummary_by_rep&amp;ea=0&amp;pra=5&amp;wgl=1&amp;uach=WyJXaW5kb3dzIiwiMTAuMC4wIiwieDg2IiwiIiwiMTA5LjAuNTQxNC4xMjAiLFtdLGZhbHNlLG51bGwsIjY0IixbWyJOb3RfQSBCcmFuZCIsIjk5LjAuMC4wIl0sWyJHb29nbGUgQ2hyb21lIiwiMTA5LjAuNTQxNC4xMjAiXSxbIkNocm9taXVtIiwiMTA5LjAuNTQxNC4xMjAiXV0sZmFsc2Vd&amp;dt=1676254785501&amp;bpp=2&amp;bdt=303&amp;idt=343&amp;shv=r20230207&amp;mjsv=m202302080101&amp;ptt=9&amp;saldr=aa&amp;abxe=1&amp;nras=1&amp;correlator=5520747381941&amp;frm=20&amp;pv=2&amp;ga_vid=2110346006.1676254786&amp;ga_sid=1676254786&amp;ga_hid=1841713817&amp;ga_fc=0&amp;u_tz=-480&amp;u_his=2&amp;u_h=1080&amp;u_w=1920&amp;u_ah=1040&amp;u_aw=1920&amp;u_cd=24&amp;u_sd=1&amp;dmc=8&amp;adx=-12245933&amp;ady=-12245933&amp;biw=929&amp;bih=887&amp;scr_x=0&amp;scr_y=0&amp;eid=44773809%2C44759927%2C44759876%2C44759842%2C31072254%2C31072272%2C31072229&amp;oid=2&amp;pvsid=49781480395094&amp;tmod=642738315&amp;uas=0&amp;nvt=1&amp;eae=2&amp;fc=1920&amp;brdim=10%2C10%2C10%2C10%2C1920%2C0%2C945%2C1020%2C929%2C887&amp;vis=1&amp;rsz=%7C%7Cs%7C&amp;abl=NS&amp;fu=32768&amp;bc=31&amp;ifi=1&amp;uci=a!1&amp;fsb=1&amp;dtd=361\" style=\"left:0;position:absolute;top:0;border:0;width:undefinedpx;height:undefinedpx;\" vspace=\"0\"></iframe></div>\n"
     ]
    }
   ],
   "source": [
    "new = bs4.BeautifulSoup(data)\n",
    "divs = new.find_all(\"div\")\n",
    "for i in divs:\n",
    "    print(i)"
   ]
  },
  {
   "cell_type": "code",
   "execution_count": 12,
   "metadata": {},
   "outputs": [
    {
     "name": "stdout",
     "output_type": "stream",
     "text": [
      "Requirement already satisfied: selenium in c:\\users\\hansung\\anaconda3\\envs\\dsc80\\lib\\site-packages (4.7.2)\n",
      "Requirement already satisfied: urllib3[socks]~=1.26 in c:\\users\\hansung\\anaconda3\\envs\\dsc80\\lib\\site-packages (from selenium) (1.26.11)\n",
      "Requirement already satisfied: trio-websocket~=0.9 in c:\\users\\hansung\\anaconda3\\envs\\dsc80\\lib\\site-packages (from selenium) (0.9.2)\n",
      "Requirement already satisfied: certifi>=2021.10.8 in c:\\users\\hansung\\anaconda3\\envs\\dsc80\\lib\\site-packages (from selenium) (2022.9.24)\n",
      "Requirement already satisfied: trio~=0.17 in c:\\users\\hansung\\anaconda3\\envs\\dsc80\\lib\\site-packages (from selenium) (0.22.0)\n",
      "Requirement already satisfied: outcome in c:\\users\\hansung\\anaconda3\\envs\\dsc80\\lib\\site-packages (from trio~=0.17->selenium) (1.2.0)\n",
      "Requirement already satisfied: attrs>=19.2.0 in c:\\users\\hansung\\anaconda3\\envs\\dsc80\\lib\\site-packages (from trio~=0.17->selenium) (22.1.0)\n",
      "Requirement already satisfied: sniffio in c:\\users\\hansung\\anaconda3\\envs\\dsc80\\lib\\site-packages (from trio~=0.17->selenium) (1.3.0)\n",
      "Requirement already satisfied: cffi>=1.14 in c:\\users\\hansung\\anaconda3\\envs\\dsc80\\lib\\site-packages (from trio~=0.17->selenium) (1.15.1)\n",
      "Requirement already satisfied: exceptiongroup>=1.0.0rc9 in c:\\users\\hansung\\anaconda3\\envs\\dsc80\\lib\\site-packages (from trio~=0.17->selenium) (1.0.4)\n",
      "Requirement already satisfied: async-generator>=1.9 in c:\\users\\hansung\\anaconda3\\envs\\dsc80\\lib\\site-packages (from trio~=0.17->selenium) (1.10)\n",
      "Requirement already satisfied: sortedcontainers in c:\\users\\hansung\\anaconda3\\envs\\dsc80\\lib\\site-packages (from trio~=0.17->selenium) (2.4.0)\n",
      "Requirement already satisfied: idna in c:\\users\\hansung\\anaconda3\\envs\\dsc80\\lib\\site-packages (from trio~=0.17->selenium) (3.4)\n",
      "Requirement already satisfied: wsproto>=0.14 in c:\\users\\hansung\\anaconda3\\envs\\dsc80\\lib\\site-packages (from trio-websocket~=0.9->selenium) (1.2.0)\n",
      "Requirement already satisfied: PySocks!=1.5.7,<2.0,>=1.5.6 in c:\\users\\hansung\\anaconda3\\envs\\dsc80\\lib\\site-packages (from urllib3[socks]~=1.26->selenium) (1.7.1)\n",
      "Requirement already satisfied: pycparser in c:\\users\\hansung\\anaconda3\\envs\\dsc80\\lib\\site-packages (from cffi>=1.14->trio~=0.17->selenium) (2.21)\n",
      "Requirement already satisfied: h11<1,>=0.9.0 in c:\\users\\hansung\\anaconda3\\envs\\dsc80\\lib\\site-packages (from wsproto>=0.14->trio-websocket~=0.9->selenium) (0.14.0)\n",
      "Note: you may need to restart the kernel to use updated packages.\n"
     ]
    }
   ],
   "source": [
    "pip install selenium"
   ]
  },
  {
   "cell_type": "markdown",
   "metadata": {},
   "source": [
    "\n",
    "Our DataFrame now contains information on the party affiliations of the congressmen and women. This information is stored in the <b>party</b> column, making our new DataFrame look like this:"
   ]
  },
  {
   "cell_type": "code",
   "execution_count": 13,
   "metadata": {},
   "outputs": [
    {
     "data": {
      "text/html": [
       "<div>\n",
       "<style scoped>\n",
       "    .dataframe tbody tr th:only-of-type {\n",
       "        vertical-align: middle;\n",
       "    }\n",
       "\n",
       "    .dataframe tbody tr th {\n",
       "        vertical-align: top;\n",
       "    }\n",
       "\n",
       "    .dataframe thead th {\n",
       "        text-align: right;\n",
       "    }\n",
       "</style>\n",
       "<table border=\"1\" class=\"dataframe\">\n",
       "  <thead>\n",
       "    <tr style=\"text-align: right;\">\n",
       "      <th></th>\n",
       "      <th>disclosure_year</th>\n",
       "      <th>disclosure_date</th>\n",
       "      <th>transaction_date</th>\n",
       "      <th>owner</th>\n",
       "      <th>ticker</th>\n",
       "      <th>asset_description</th>\n",
       "      <th>type</th>\n",
       "      <th>amount</th>\n",
       "      <th>representative</th>\n",
       "      <th>district</th>\n",
       "      <th>state</th>\n",
       "      <th>ptr_link</th>\n",
       "      <th>cap_gains_over_200_usd</th>\n",
       "      <th>industry</th>\n",
       "      <th>sector</th>\n",
       "      <th>party_x</th>\n",
       "      <th>party_y</th>\n",
       "    </tr>\n",
       "  </thead>\n",
       "  <tbody>\n",
       "    <tr>\n",
       "      <th>0</th>\n",
       "      <td>2021</td>\n",
       "      <td>2021-10-04</td>\n",
       "      <td>2021-09-27</td>\n",
       "      <td>joint</td>\n",
       "      <td>BP</td>\n",
       "      <td>BP plc</td>\n",
       "      <td>purchase</td>\n",
       "      <td>$1,001 - $15,000</td>\n",
       "      <td>Foxx</td>\n",
       "      <td>NC05</td>\n",
       "      <td>NC</td>\n",
       "      <td>https://disclosures-clerk.house.gov/public_dis...</td>\n",
       "      <td>False</td>\n",
       "      <td>Integrated oil Companies</td>\n",
       "      <td>Energy</td>\n",
       "      <td>Republican</td>\n",
       "      <td>NaN</td>\n",
       "    </tr>\n",
       "    <tr>\n",
       "      <th>1</th>\n",
       "      <td>2021</td>\n",
       "      <td>2021-10-04</td>\n",
       "      <td>2021-09-13</td>\n",
       "      <td>joint</td>\n",
       "      <td>XOM</td>\n",
       "      <td>Exxon Mobil Corporation</td>\n",
       "      <td>purchase</td>\n",
       "      <td>$1,001 - $15,000</td>\n",
       "      <td>Foxx</td>\n",
       "      <td>NC05</td>\n",
       "      <td>NC</td>\n",
       "      <td>https://disclosures-clerk.house.gov/public_dis...</td>\n",
       "      <td>False</td>\n",
       "      <td>Integrated oil Companies</td>\n",
       "      <td>Energy</td>\n",
       "      <td>Republican</td>\n",
       "      <td>NaN</td>\n",
       "    </tr>\n",
       "    <tr>\n",
       "      <th>2</th>\n",
       "      <td>2021</td>\n",
       "      <td>2021-10-04</td>\n",
       "      <td>2021-09-10</td>\n",
       "      <td>joint</td>\n",
       "      <td>ILPT</td>\n",
       "      <td>Industrial Logistics Properties Trust - Common...</td>\n",
       "      <td>purchase</td>\n",
       "      <td>$15,001 - $50,000</td>\n",
       "      <td>Foxx</td>\n",
       "      <td>NC05</td>\n",
       "      <td>NC</td>\n",
       "      <td>https://disclosures-clerk.house.gov/public_dis...</td>\n",
       "      <td>False</td>\n",
       "      <td>Real Estate Investment Trusts</td>\n",
       "      <td>Real Estate</td>\n",
       "      <td>Republican</td>\n",
       "      <td>NaN</td>\n",
       "    </tr>\n",
       "    <tr>\n",
       "      <th>3</th>\n",
       "      <td>2021</td>\n",
       "      <td>2021-10-04</td>\n",
       "      <td>2021-09-28</td>\n",
       "      <td>joint</td>\n",
       "      <td>PM</td>\n",
       "      <td>Phillip Morris International Inc</td>\n",
       "      <td>purchase</td>\n",
       "      <td>$15,001 - $50,000</td>\n",
       "      <td>Foxx</td>\n",
       "      <td>NC05</td>\n",
       "      <td>NC</td>\n",
       "      <td>https://disclosures-clerk.house.gov/public_dis...</td>\n",
       "      <td>False</td>\n",
       "      <td>Farming/Seeds/Milling</td>\n",
       "      <td>Consumer Non-Durables</td>\n",
       "      <td>Republican</td>\n",
       "      <td>NaN</td>\n",
       "    </tr>\n",
       "    <tr>\n",
       "      <th>4</th>\n",
       "      <td>2021</td>\n",
       "      <td>2021-10-04</td>\n",
       "      <td>2021-09-17</td>\n",
       "      <td>self</td>\n",
       "      <td>BLK</td>\n",
       "      <td>BlackRock Inc</td>\n",
       "      <td>sale_partial</td>\n",
       "      <td>$1,001 - $15,000</td>\n",
       "      <td>S. Lowenthal</td>\n",
       "      <td>CA47</td>\n",
       "      <td>CA</td>\n",
       "      <td>https://disclosures-clerk.house.gov/public_dis...</td>\n",
       "      <td>False</td>\n",
       "      <td>Investment Bankers/Brokers/Service</td>\n",
       "      <td>Finance</td>\n",
       "      <td>Democrat</td>\n",
       "      <td>NaN</td>\n",
       "    </tr>\n",
       "  </tbody>\n",
       "</table>\n",
       "</div>"
      ],
      "text/plain": [
       "   disclosure_year disclosure_date transaction_date  owner ticker  \\\n",
       "0             2021      2021-10-04       2021-09-27  joint     BP   \n",
       "1             2021      2021-10-04       2021-09-13  joint    XOM   \n",
       "2             2021      2021-10-04       2021-09-10  joint   ILPT   \n",
       "3             2021      2021-10-04       2021-09-28  joint     PM   \n",
       "4             2021      2021-10-04       2021-09-17   self    BLK   \n",
       "\n",
       "                                   asset_description          type  \\\n",
       "0                                             BP plc      purchase   \n",
       "1                            Exxon Mobil Corporation      purchase   \n",
       "2  Industrial Logistics Properties Trust - Common...      purchase   \n",
       "3                   Phillip Morris International Inc      purchase   \n",
       "4                                      BlackRock Inc  sale_partial   \n",
       "\n",
       "              amount representative district state  \\\n",
       "0   $1,001 - $15,000           Foxx     NC05    NC   \n",
       "1   $1,001 - $15,000           Foxx     NC05    NC   \n",
       "2  $15,001 - $50,000           Foxx     NC05    NC   \n",
       "3  $15,001 - $50,000           Foxx     NC05    NC   \n",
       "4   $1,001 - $15,000   S. Lowenthal     CA47    CA   \n",
       "\n",
       "                                            ptr_link  cap_gains_over_200_usd  \\\n",
       "0  https://disclosures-clerk.house.gov/public_dis...                   False   \n",
       "1  https://disclosures-clerk.house.gov/public_dis...                   False   \n",
       "2  https://disclosures-clerk.house.gov/public_dis...                   False   \n",
       "3  https://disclosures-clerk.house.gov/public_dis...                   False   \n",
       "4  https://disclosures-clerk.house.gov/public_dis...                   False   \n",
       "\n",
       "                             industry                 sector     party_x  \\\n",
       "0            Integrated oil Companies                 Energy  Republican   \n",
       "1            Integrated oil Companies                 Energy  Republican   \n",
       "2       Real Estate Investment Trusts            Real Estate  Republican   \n",
       "3               Farming/Seeds/Milling  Consumer Non-Durables  Republican   \n",
       "4  Investment Bankers/Brokers/Service                Finance    Democrat   \n",
       "\n",
       "  party_y  \n",
       "0     NaN  \n",
       "1     NaN  \n",
       "2     NaN  \n",
       "3     NaN  \n",
       "4     NaN  "
      ]
     },
     "execution_count": 13,
     "metadata": {},
     "output_type": "execute_result"
    }
   ],
   "source": [
    "partydf.head()"
   ]
  },
  {
   "cell_type": "markdown",
   "metadata": {},
   "source": [
    "### Removing Null Values from the DataFrame:\n",
    "\n",
    "Removing all remaining Null and None values with fillna() yields our clean DataFrame. This is stored with the variable name <b> finaldf </b>. Our subsequent analyses will be undertaken using this clean dataset"
   ]
  },
  {
   "cell_type": "code",
   "execution_count": 14,
   "metadata": {},
   "outputs": [],
   "source": [
    "##FILLING ALL NULL VALUES WITH np.Nan\n",
    "finaldf = partydf.fillna(np.nan)"
   ]
  },
  {
   "cell_type": "code",
   "execution_count": 15,
   "metadata": {},
   "outputs": [
    {
     "data": {
      "text/html": [
       "<div>\n",
       "<style scoped>\n",
       "    .dataframe tbody tr th:only-of-type {\n",
       "        vertical-align: middle;\n",
       "    }\n",
       "\n",
       "    .dataframe tbody tr th {\n",
       "        vertical-align: top;\n",
       "    }\n",
       "\n",
       "    .dataframe thead th {\n",
       "        text-align: right;\n",
       "    }\n",
       "</style>\n",
       "<table border=\"1\" class=\"dataframe\">\n",
       "  <thead>\n",
       "    <tr style=\"text-align: right;\">\n",
       "      <th></th>\n",
       "      <th>disclosure_year</th>\n",
       "      <th>disclosure_date</th>\n",
       "      <th>transaction_date</th>\n",
       "      <th>owner</th>\n",
       "      <th>ticker</th>\n",
       "      <th>asset_description</th>\n",
       "      <th>type</th>\n",
       "      <th>amount</th>\n",
       "      <th>representative</th>\n",
       "      <th>district</th>\n",
       "      <th>state</th>\n",
       "      <th>ptr_link</th>\n",
       "      <th>cap_gains_over_200_usd</th>\n",
       "      <th>industry</th>\n",
       "      <th>sector</th>\n",
       "      <th>party_x</th>\n",
       "      <th>party_y</th>\n",
       "    </tr>\n",
       "  </thead>\n",
       "  <tbody>\n",
       "    <tr>\n",
       "      <th>0</th>\n",
       "      <td>2021</td>\n",
       "      <td>2021-10-04</td>\n",
       "      <td>2021-09-27</td>\n",
       "      <td>joint</td>\n",
       "      <td>BP</td>\n",
       "      <td>BP plc</td>\n",
       "      <td>purchase</td>\n",
       "      <td>$1,001 - $15,000</td>\n",
       "      <td>Foxx</td>\n",
       "      <td>NC05</td>\n",
       "      <td>NC</td>\n",
       "      <td>https://disclosures-clerk.house.gov/public_dis...</td>\n",
       "      <td>False</td>\n",
       "      <td>Integrated oil Companies</td>\n",
       "      <td>Energy</td>\n",
       "      <td>Republican</td>\n",
       "      <td>NaN</td>\n",
       "    </tr>\n",
       "    <tr>\n",
       "      <th>1</th>\n",
       "      <td>2021</td>\n",
       "      <td>2021-10-04</td>\n",
       "      <td>2021-09-13</td>\n",
       "      <td>joint</td>\n",
       "      <td>XOM</td>\n",
       "      <td>Exxon Mobil Corporation</td>\n",
       "      <td>purchase</td>\n",
       "      <td>$1,001 - $15,000</td>\n",
       "      <td>Foxx</td>\n",
       "      <td>NC05</td>\n",
       "      <td>NC</td>\n",
       "      <td>https://disclosures-clerk.house.gov/public_dis...</td>\n",
       "      <td>False</td>\n",
       "      <td>Integrated oil Companies</td>\n",
       "      <td>Energy</td>\n",
       "      <td>Republican</td>\n",
       "      <td>NaN</td>\n",
       "    </tr>\n",
       "    <tr>\n",
       "      <th>2</th>\n",
       "      <td>2021</td>\n",
       "      <td>2021-10-04</td>\n",
       "      <td>2021-09-10</td>\n",
       "      <td>joint</td>\n",
       "      <td>ILPT</td>\n",
       "      <td>Industrial Logistics Properties Trust - Common...</td>\n",
       "      <td>purchase</td>\n",
       "      <td>$15,001 - $50,000</td>\n",
       "      <td>Foxx</td>\n",
       "      <td>NC05</td>\n",
       "      <td>NC</td>\n",
       "      <td>https://disclosures-clerk.house.gov/public_dis...</td>\n",
       "      <td>False</td>\n",
       "      <td>Real Estate Investment Trusts</td>\n",
       "      <td>Real Estate</td>\n",
       "      <td>Republican</td>\n",
       "      <td>NaN</td>\n",
       "    </tr>\n",
       "    <tr>\n",
       "      <th>3</th>\n",
       "      <td>2021</td>\n",
       "      <td>2021-10-04</td>\n",
       "      <td>2021-09-28</td>\n",
       "      <td>joint</td>\n",
       "      <td>PM</td>\n",
       "      <td>Phillip Morris International Inc</td>\n",
       "      <td>purchase</td>\n",
       "      <td>$15,001 - $50,000</td>\n",
       "      <td>Foxx</td>\n",
       "      <td>NC05</td>\n",
       "      <td>NC</td>\n",
       "      <td>https://disclosures-clerk.house.gov/public_dis...</td>\n",
       "      <td>False</td>\n",
       "      <td>Farming/Seeds/Milling</td>\n",
       "      <td>Consumer Non-Durables</td>\n",
       "      <td>Republican</td>\n",
       "      <td>NaN</td>\n",
       "    </tr>\n",
       "    <tr>\n",
       "      <th>4</th>\n",
       "      <td>2021</td>\n",
       "      <td>2021-10-04</td>\n",
       "      <td>2021-09-17</td>\n",
       "      <td>self</td>\n",
       "      <td>BLK</td>\n",
       "      <td>BlackRock Inc</td>\n",
       "      <td>sale_partial</td>\n",
       "      <td>$1,001 - $15,000</td>\n",
       "      <td>S. Lowenthal</td>\n",
       "      <td>CA47</td>\n",
       "      <td>CA</td>\n",
       "      <td>https://disclosures-clerk.house.gov/public_dis...</td>\n",
       "      <td>False</td>\n",
       "      <td>Investment Bankers/Brokers/Service</td>\n",
       "      <td>Finance</td>\n",
       "      <td>Democrat</td>\n",
       "      <td>NaN</td>\n",
       "    </tr>\n",
       "  </tbody>\n",
       "</table>\n",
       "</div>"
      ],
      "text/plain": [
       "   disclosure_year disclosure_date transaction_date  owner ticker  \\\n",
       "0             2021      2021-10-04       2021-09-27  joint     BP   \n",
       "1             2021      2021-10-04       2021-09-13  joint    XOM   \n",
       "2             2021      2021-10-04       2021-09-10  joint   ILPT   \n",
       "3             2021      2021-10-04       2021-09-28  joint     PM   \n",
       "4             2021      2021-10-04       2021-09-17   self    BLK   \n",
       "\n",
       "                                   asset_description          type  \\\n",
       "0                                             BP plc      purchase   \n",
       "1                            Exxon Mobil Corporation      purchase   \n",
       "2  Industrial Logistics Properties Trust - Common...      purchase   \n",
       "3                   Phillip Morris International Inc      purchase   \n",
       "4                                      BlackRock Inc  sale_partial   \n",
       "\n",
       "              amount representative district state  \\\n",
       "0   $1,001 - $15,000           Foxx     NC05    NC   \n",
       "1   $1,001 - $15,000           Foxx     NC05    NC   \n",
       "2  $15,001 - $50,000           Foxx     NC05    NC   \n",
       "3  $15,001 - $50,000           Foxx     NC05    NC   \n",
       "4   $1,001 - $15,000   S. Lowenthal     CA47    CA   \n",
       "\n",
       "                                            ptr_link  cap_gains_over_200_usd  \\\n",
       "0  https://disclosures-clerk.house.gov/public_dis...                   False   \n",
       "1  https://disclosures-clerk.house.gov/public_dis...                   False   \n",
       "2  https://disclosures-clerk.house.gov/public_dis...                   False   \n",
       "3  https://disclosures-clerk.house.gov/public_dis...                   False   \n",
       "4  https://disclosures-clerk.house.gov/public_dis...                   False   \n",
       "\n",
       "                             industry                 sector     party_x  \\\n",
       "0            Integrated oil Companies                 Energy  Republican   \n",
       "1            Integrated oil Companies                 Energy  Republican   \n",
       "2       Real Estate Investment Trusts            Real Estate  Republican   \n",
       "3               Farming/Seeds/Milling  Consumer Non-Durables  Republican   \n",
       "4  Investment Bankers/Brokers/Service                Finance    Democrat   \n",
       "\n",
       "  party_y  \n",
       "0     NaN  \n",
       "1     NaN  \n",
       "2     NaN  \n",
       "3     NaN  \n",
       "4     NaN  "
      ]
     },
     "execution_count": 15,
     "metadata": {},
     "output_type": "execute_result"
    }
   ],
   "source": [
    "finaldf.head() #FINAL CLEANED DATASET"
   ]
  },
  {
   "cell_type": "markdown",
   "metadata": {},
   "source": [
    "### Explanatory Data Analysis\n",
    "\n",
    "Now that we have a clean DataFrame, we are ready to explore and analyse our dataset. The questions we are trying to answer are as follows:"
   ]
  },
  {
   "cell_type": "code",
   "execution_count": 16,
   "metadata": {},
   "outputs": [
    {
     "data": {
      "text/html": [
       "<div>\n",
       "<style scoped>\n",
       "    .dataframe tbody tr th:only-of-type {\n",
       "        vertical-align: middle;\n",
       "    }\n",
       "\n",
       "    .dataframe tbody tr th {\n",
       "        vertical-align: top;\n",
       "    }\n",
       "\n",
       "    .dataframe thead th {\n",
       "        text-align: right;\n",
       "    }\n",
       "</style>\n",
       "<table border=\"1\" class=\"dataframe\">\n",
       "  <thead>\n",
       "    <tr style=\"text-align: right;\">\n",
       "      <th></th>\n",
       "      <th>disclosure_year</th>\n",
       "      <th>disclosure_date</th>\n",
       "      <th>transaction_date</th>\n",
       "      <th>owner</th>\n",
       "      <th>ticker</th>\n",
       "      <th>asset_description</th>\n",
       "      <th>type</th>\n",
       "      <th>amount</th>\n",
       "      <th>representative</th>\n",
       "      <th>district</th>\n",
       "      <th>state</th>\n",
       "      <th>ptr_link</th>\n",
       "      <th>cap_gains_over_200_usd</th>\n",
       "      <th>industry</th>\n",
       "      <th>sector</th>\n",
       "      <th>party_x</th>\n",
       "      <th>party_y</th>\n",
       "    </tr>\n",
       "  </thead>\n",
       "  <tbody>\n",
       "    <tr>\n",
       "      <th>0</th>\n",
       "      <td>2021</td>\n",
       "      <td>2021-10-04</td>\n",
       "      <td>2021-09-27</td>\n",
       "      <td>joint</td>\n",
       "      <td>BP</td>\n",
       "      <td>BP plc</td>\n",
       "      <td>purchase</td>\n",
       "      <td>$1,001 - $15,000</td>\n",
       "      <td>Foxx</td>\n",
       "      <td>NC05</td>\n",
       "      <td>NC</td>\n",
       "      <td>https://disclosures-clerk.house.gov/public_dis...</td>\n",
       "      <td>False</td>\n",
       "      <td>Integrated oil Companies</td>\n",
       "      <td>Energy</td>\n",
       "      <td>Republican</td>\n",
       "      <td>NaN</td>\n",
       "    </tr>\n",
       "    <tr>\n",
       "      <th>1</th>\n",
       "      <td>2021</td>\n",
       "      <td>2021-10-04</td>\n",
       "      <td>2021-09-13</td>\n",
       "      <td>joint</td>\n",
       "      <td>XOM</td>\n",
       "      <td>Exxon Mobil Corporation</td>\n",
       "      <td>purchase</td>\n",
       "      <td>$1,001 - $15,000</td>\n",
       "      <td>Foxx</td>\n",
       "      <td>NC05</td>\n",
       "      <td>NC</td>\n",
       "      <td>https://disclosures-clerk.house.gov/public_dis...</td>\n",
       "      <td>False</td>\n",
       "      <td>Integrated oil Companies</td>\n",
       "      <td>Energy</td>\n",
       "      <td>Republican</td>\n",
       "      <td>NaN</td>\n",
       "    </tr>\n",
       "    <tr>\n",
       "      <th>2</th>\n",
       "      <td>2021</td>\n",
       "      <td>2021-10-04</td>\n",
       "      <td>2021-09-10</td>\n",
       "      <td>joint</td>\n",
       "      <td>ILPT</td>\n",
       "      <td>Industrial Logistics Properties Trust - Common...</td>\n",
       "      <td>purchase</td>\n",
       "      <td>$15,001 - $50,000</td>\n",
       "      <td>Foxx</td>\n",
       "      <td>NC05</td>\n",
       "      <td>NC</td>\n",
       "      <td>https://disclosures-clerk.house.gov/public_dis...</td>\n",
       "      <td>False</td>\n",
       "      <td>Real Estate Investment Trusts</td>\n",
       "      <td>Real Estate</td>\n",
       "      <td>Republican</td>\n",
       "      <td>NaN</td>\n",
       "    </tr>\n",
       "    <tr>\n",
       "      <th>3</th>\n",
       "      <td>2021</td>\n",
       "      <td>2021-10-04</td>\n",
       "      <td>2021-09-28</td>\n",
       "      <td>joint</td>\n",
       "      <td>PM</td>\n",
       "      <td>Phillip Morris International Inc</td>\n",
       "      <td>purchase</td>\n",
       "      <td>$15,001 - $50,000</td>\n",
       "      <td>Foxx</td>\n",
       "      <td>NC05</td>\n",
       "      <td>NC</td>\n",
       "      <td>https://disclosures-clerk.house.gov/public_dis...</td>\n",
       "      <td>False</td>\n",
       "      <td>Farming/Seeds/Milling</td>\n",
       "      <td>Consumer Non-Durables</td>\n",
       "      <td>Republican</td>\n",
       "      <td>NaN</td>\n",
       "    </tr>\n",
       "    <tr>\n",
       "      <th>4</th>\n",
       "      <td>2021</td>\n",
       "      <td>2021-10-04</td>\n",
       "      <td>2021-09-17</td>\n",
       "      <td>self</td>\n",
       "      <td>BLK</td>\n",
       "      <td>BlackRock Inc</td>\n",
       "      <td>sale_partial</td>\n",
       "      <td>$1,001 - $15,000</td>\n",
       "      <td>S. Lowenthal</td>\n",
       "      <td>CA47</td>\n",
       "      <td>CA</td>\n",
       "      <td>https://disclosures-clerk.house.gov/public_dis...</td>\n",
       "      <td>False</td>\n",
       "      <td>Investment Bankers/Brokers/Service</td>\n",
       "      <td>Finance</td>\n",
       "      <td>Democrat</td>\n",
       "      <td>NaN</td>\n",
       "    </tr>\n",
       "  </tbody>\n",
       "</table>\n",
       "</div>"
      ],
      "text/plain": [
       "   disclosure_year disclosure_date transaction_date  owner ticker  \\\n",
       "0             2021      2021-10-04       2021-09-27  joint     BP   \n",
       "1             2021      2021-10-04       2021-09-13  joint    XOM   \n",
       "2             2021      2021-10-04       2021-09-10  joint   ILPT   \n",
       "3             2021      2021-10-04       2021-09-28  joint     PM   \n",
       "4             2021      2021-10-04       2021-09-17   self    BLK   \n",
       "\n",
       "                                   asset_description          type  \\\n",
       "0                                             BP plc      purchase   \n",
       "1                            Exxon Mobil Corporation      purchase   \n",
       "2  Industrial Logistics Properties Trust - Common...      purchase   \n",
       "3                   Phillip Morris International Inc      purchase   \n",
       "4                                      BlackRock Inc  sale_partial   \n",
       "\n",
       "              amount representative district state  \\\n",
       "0   $1,001 - $15,000           Foxx     NC05    NC   \n",
       "1   $1,001 - $15,000           Foxx     NC05    NC   \n",
       "2  $15,001 - $50,000           Foxx     NC05    NC   \n",
       "3  $15,001 - $50,000           Foxx     NC05    NC   \n",
       "4   $1,001 - $15,000   S. Lowenthal     CA47    CA   \n",
       "\n",
       "                                            ptr_link  cap_gains_over_200_usd  \\\n",
       "0  https://disclosures-clerk.house.gov/public_dis...                   False   \n",
       "1  https://disclosures-clerk.house.gov/public_dis...                   False   \n",
       "2  https://disclosures-clerk.house.gov/public_dis...                   False   \n",
       "3  https://disclosures-clerk.house.gov/public_dis...                   False   \n",
       "4  https://disclosures-clerk.house.gov/public_dis...                   False   \n",
       "\n",
       "                             industry                 sector     party_x  \\\n",
       "0            Integrated oil Companies                 Energy  Republican   \n",
       "1            Integrated oil Companies                 Energy  Republican   \n",
       "2       Real Estate Investment Trusts            Real Estate  Republican   \n",
       "3               Farming/Seeds/Milling  Consumer Non-Durables  Republican   \n",
       "4  Investment Bankers/Brokers/Service                Finance    Democrat   \n",
       "\n",
       "  party_y  \n",
       "0     NaN  \n",
       "1     NaN  \n",
       "2     NaN  \n",
       "3     NaN  \n",
       "4     NaN  "
      ]
     },
     "execution_count": 16,
     "metadata": {},
     "output_type": "execute_result"
    }
   ],
   "source": [
    "finaldf.head()"
   ]
  },
  {
   "cell_type": "markdown",
   "metadata": {},
   "source": [
    "### What is the distribution of the Purchase types?"
   ]
  },
  {
   "cell_type": "code",
   "execution_count": 17,
   "metadata": {},
   "outputs": [
    {
     "data": {
      "text/plain": [
       "purchase        8654\n",
       "sale_full       5262\n",
       "sale_partial    2461\n",
       "exchange         140\n",
       "sale               1\n",
       "Name: type, dtype: int64"
      ]
     },
     "execution_count": 17,
     "metadata": {},
     "output_type": "execute_result"
    },
    {
     "data": {
      "image/png": "[encoded data removed]",
      "text/plain": [
       "<Figure size 640x480 with 1 Axes>"
      ]
     },
     "metadata": {
      "image/png": {
       "height": 433,
       "width": 580
      }
     },
     "output_type": "display_data"
    }
   ],
   "source": [
    "sns.countplot(data = finaldf, x = 'type')\n",
    "\n",
    "finaldf['type'].value_counts()"
   ]
  },
  {
   "cell_type": "markdown",
   "metadata": {},
   "source": [
    "We observe that the most common trade type is <b>purchase</b>, while there is only 1 complete <b>sale</b>. This one complete sale is:"
   ]
  },
  {
   "cell_type": "code",
   "execution_count": 18,
   "metadata": {},
   "outputs": [],
   "source": [
    "only_full_sale = finaldf.loc[finaldf['type']=='sale']\n"
   ]
  },
  {
   "cell_type": "markdown",
   "metadata": {},
   "source": [
    "This sale was undertaken by <b> Mo Brooks </b> on <b>2021-10-14</b> and it involved the sale of <b> \"AT&T\" </b> stock\n",
    "\n",
    "\n",
    "Having seen this, we are now interested in what the most traded stocks are and the party affiliations associated with this trading behaviour"
   ]
  },
  {
   "cell_type": "markdown",
   "metadata": {},
   "source": [
    "### 1) Top 10 most traded stocks"
   ]
  },
  {
   "cell_type": "code",
   "execution_count": 19,
   "metadata": {},
   "outputs": [
    {
     "data": {
      "text/plain": [
       "MSFT     271\n",
       "AAPL     192\n",
       "NTAP     162\n",
       "FB       123\n",
       "TDDXX    122\n",
       "AMZN     112\n",
       "TSLA     105\n",
       "BRK.B    102\n",
       "RUN       94\n",
       "NVDA      94\n",
       "Name: ticker, dtype: int64"
      ]
     },
     "execution_count": 19,
     "metadata": {},
     "output_type": "execute_result"
    }
   ],
   "source": [
    "finaldf['ticker'].value_counts()[:10]"
   ]
  },
  {
   "cell_type": "markdown",
   "metadata": {},
   "source": [
    "The top 10 most traded stocks are as above. Using the data above we observe that the ticker <b> MSFT </b> representing the company <b> Microsoft </b> seems to be the most traded stock.\n",
    "\n",
    "But was it bought equally by both parties or were more purchases performed by one over the other?"
   ]
  },
  {
   "cell_type": "markdown",
   "metadata": {},
   "source": [
    "### 1) What was the party breakdown for the above stocks?"
   ]
  },
  {
   "cell_type": "code",
   "execution_count": 29,
   "metadata": {},
   "outputs": [
    {
     "data": {
      "text/html": [
       "<div>\n",
       "<style scoped>\n",
       "    .dataframe tbody tr th:only-of-type {\n",
       "        vertical-align: middle;\n",
       "    }\n",
       "\n",
       "    .dataframe tbody tr th {\n",
       "        vertical-align: top;\n",
       "    }\n",
       "\n",
       "    .dataframe thead th {\n",
       "        text-align: right;\n",
       "    }\n",
       "</style>\n",
       "<table border=\"1\" class=\"dataframe\">\n",
       "  <thead>\n",
       "    <tr style=\"text-align: right;\">\n",
       "      <th>ticker</th>\n",
       "      <th>AAPL</th>\n",
       "      <th>AMZN</th>\n",
       "      <th>BRK.B</th>\n",
       "      <th>FB</th>\n",
       "      <th>MSFT</th>\n",
       "      <th>NTAP</th>\n",
       "      <th>NVDA</th>\n",
       "      <th>RUN</th>\n",
       "      <th>TDDXX</th>\n",
       "      <th>TSLA</th>\n",
       "    </tr>\n",
       "    <tr>\n",
       "      <th>party_x</th>\n",
       "      <th></th>\n",
       "      <th></th>\n",
       "      <th></th>\n",
       "      <th></th>\n",
       "      <th></th>\n",
       "      <th></th>\n",
       "      <th></th>\n",
       "      <th></th>\n",
       "      <th></th>\n",
       "      <th></th>\n",
       "    </tr>\n",
       "  </thead>\n",
       "  <tbody>\n",
       "    <tr>\n",
       "      <th>Democrat</th>\n",
       "      <td>121.0</td>\n",
       "      <td>57.0</td>\n",
       "      <td>66.0</td>\n",
       "      <td>96.0</td>\n",
       "      <td>210.0</td>\n",
       "      <td>3.0</td>\n",
       "      <td>67.0</td>\n",
       "      <td>94.0</td>\n",
       "      <td>122.0</td>\n",
       "      <td>65.0</td>\n",
       "    </tr>\n",
       "    <tr>\n",
       "      <th>Republican</th>\n",
       "      <td>71.0</td>\n",
       "      <td>55.0</td>\n",
       "      <td>36.0</td>\n",
       "      <td>27.0</td>\n",
       "      <td>61.0</td>\n",
       "      <td>159.0</td>\n",
       "      <td>27.0</td>\n",
       "      <td>NaN</td>\n",
       "      <td>NaN</td>\n",
       "      <td>37.0</td>\n",
       "    </tr>\n",
       "  </tbody>\n",
       "</table>\n",
       "</div>"
      ],
      "text/plain": [
       "ticker       AAPL  AMZN  BRK.B    FB   MSFT   NTAP  NVDA   RUN  TDDXX  TSLA\n",
       "party_x                                                                    \n",
       "Democrat    121.0  57.0   66.0  96.0  210.0    3.0  67.0  94.0  122.0  65.0\n",
       "Republican   71.0  55.0   36.0  27.0   61.0  159.0  27.0   NaN    NaN  37.0"
      ]
     },
     "execution_count": 29,
     "metadata": {},
     "output_type": "execute_result"
    }
   ],
   "source": [
    "#finaldf.loc[finaldf['ticker']==\"MSFT\"].groupby('party').count().iloc[:,0]\n",
    "\n",
    "top10_list = list(finaldf['ticker'].value_counts()[:10].index)\n",
    "\n",
    "top10_df= finaldf.loc[finaldf['ticker'].isin(top10_list)]\n",
    "\n",
    "party_wise_top10= top10_df.pivot_table(index = 'party_x', columns = 'ticker',aggfunc = 'size')\n",
    "party_wise_top10"
   ]
  },
  {
   "cell_type": "code",
   "execution_count": 30,
   "metadata": {},
   "outputs": [
    {
     "data": {
      "text/plain": [
       "Index(['disclosure_year', 'disclosure_date', 'transaction_date', 'owner',\n",
       "       'ticker', 'asset_description', 'type', 'amount', 'representative',\n",
       "       'district', 'state', 'ptr_link', 'cap_gains_over_200_usd', 'industry',\n",
       "       'sector', 'party_x', 'party_y'],\n",
       "      dtype='object')"
      ]
     },
     "execution_count": 30,
     "metadata": {},
     "output_type": "execute_result"
    }
   ],
   "source": [
    "top10_df.columns"
   ]
  },
  {
   "cell_type": "code",
   "execution_count": 36,
   "metadata": {},
   "outputs": [
    {
     "data": {
      "text/plain": [
       "<matplotlib.legend.Legend at 0x21f833ed310>"
      ]
     },
     "execution_count": 36,
     "metadata": {},
     "output_type": "execute_result"
    },
    {
     "data": {
      "image/png": "[encoded data removed]",
      "text/plain": [
       "<Figure size 640x480 with 1 Axes>"
      ]
     },
     "metadata": {
      "image/png": {
       "height": 413,
       "width": 552
      }
     },
     "output_type": "display_data"
    }
   ],
   "source": [
    "m = party_wise_top10.reset_index() #Resetting index for easy plotting \n",
    "\n",
    "\n",
    "p = m.loc[m['party_x'] == \"Democrat\"].drop('party_x',axis = 1) ## Democratic Party\n",
    "q = m.loc[m['party_x'] == \"Republican\"].drop('party_x',axis = 1) ## Republican party\n",
    "\n",
    "p.columns\n",
    "plt.bar(p.columns, p.values[0], alpha = 0.5)\n",
    "plt.bar(q.columns,q.values[0], alpha = 0.5)\n",
    "#p.values[0]\n",
    "plt.legend(['Democratic', 'Republican'], loc='upper left')\n"
   ]
  },
  {
   "cell_type": "markdown",
   "metadata": {},
   "source": [
    "In the above pivot table we can see the party wise breakdown of each of the stocks in out Top10 List. From the above table we can observe that most of the <b>Microsoft</b> Stock was bought by members from the Democratic Party. \n",
    "But most of the <b>NetApp Inc </b> stocks were bought members of the Republican party.\n",
    "\n",
    "In fact what is more interesting is that, from _all_ the trading activity for the Top10 tickers, the Democratic Party is responsible for a majority of the trades. "
   ]
  },
  {
   "cell_type": "code",
   "execution_count": 37,
   "metadata": {},
   "outputs": [
    {
     "data": {
      "text/plain": [
       "{'Republican Trades in Top10': 0.3599695585996956,\n",
       " 'Democratic Trades in Top10': 0.6856925418569254}"
      ]
     },
     "execution_count": 37,
     "metadata": {},
     "output_type": "execute_result"
    }
   ],
   "source": [
    "D_perc = party_wise_top10.sum(axis =1)[0]/ 1314\n",
    "R_perc = party_wise_top10.sum(axis =1)[-1]/1314\n",
    "\n",
    "{\"Republican Trades in Top10\": R_perc, \"Democratic Trades in Top10\": D_perc}"
   ]
  },
  {
   "cell_type": "markdown",
   "metadata": {},
   "source": [
    "### Which Party made the most overall trades?"
   ]
  },
  {
   "cell_type": "markdown",
   "metadata": {},
   "source": [
    "As seen above, the democratic Party is responsible for almost <b>63.8%</b> of the Stock trades in the Top10 most traded stocks in our dataset.\n",
    "\n",
    "However is this true for the entire datset or just the Top10 stocks? Let us caluclate the percentage breakdown for all the stocks below:"
   ]
  },
  {
   "cell_type": "code",
   "execution_count": 39,
   "metadata": {},
   "outputs": [
    {
     "data": {
      "text/plain": [
       "{'Republican Trades in DataSet': 0.39787706396558903,\n",
       " 'Democratic Trades in DataSet': 0.648813653392535}"
      ]
     },
     "execution_count": 39,
     "metadata": {},
     "output_type": "execute_result"
    }
   ],
   "source": [
    "party_wise_total= finaldf.pivot_table(index = 'party_x', columns = 'ticker',aggfunc = 'size')\n",
    "\n",
    "D_perc2 = party_wise_total.sum(axis =1)[0]/ 14414\n",
    "R_perc2 = party_wise_total.sum(axis =1)[-1]/14414\n",
    "\n",
    "{\"Republican Trades in DataSet\": R_perc2, \"Democratic Trades in DataSet\": D_perc2}"
   ]
  },
  {
   "cell_type": "markdown",
   "metadata": {},
   "source": [
    "Even in the dataset as a whole, it appears as though the Democratic Party has made <b>39.8%</b> of all trades, while the Republican Party has made only around <b>64.8%</b> of trades."
   ]
  },
  {
   "cell_type": "markdown",
   "metadata": {},
   "source": [
    "All this information allows us to understand the trading habits of members of various parties. However from background research, we notice that the stock for <b> Tesla </b> has grown significantly from the year 2022 to present. This period coincides exactly with the time periods of our DataSet. We will be investigating the trading behaviour of representatives in relation to this stock and if there is evidence of insider trading?\n",
    "\n",
    "\n",
    "## Research Question: \n",
    "\n",
    "### _\"Are the Trading Habits the stocks of <b> Tesla </b> is different across parties in the House of Representatives from 2020-2022?\"_"
   ]
  },
  {
   "cell_type": "markdown",
   "metadata": {},
   "source": [
    "Before we can begin exploring this question, we must assess the missingness mechanisms in our data and look for any cases of MAR data."
   ]
  },
  {
   "cell_type": "markdown",
   "metadata": {},
   "source": [
    "## Assessment of Missingness"
   ]
  },
  {
   "cell_type": "markdown",
   "metadata": {
    "ExecuteTime": {
     "end_time": "2019-10-31T23:36:28.662099Z",
     "start_time": "2019-10-31T23:36:28.660016Z"
    }
   },
   "source": [
    "We will now analyse the missing values within the dataset to assess the kind of missingness they exhibit."
   ]
  },
  {
   "cell_type": "code",
   "execution_count": 40,
   "metadata": {},
   "outputs": [
    {
     "data": {
      "text/plain": [
       "disclosure_year               0\n",
       "disclosure_date               0\n",
       "transaction_date             11\n",
       "owner                      7764\n",
       "ticker                     1402\n",
       "asset_description             4\n",
       "type                          0\n",
       "amount                        0\n",
       "representative                0\n",
       "district                      0\n",
       "state                         0\n",
       "ptr_link                      0\n",
       "cap_gains_over_200_usd        0\n",
       "industry                   4564\n",
       "sector                     4564\n",
       "party_x                      29\n",
       "party_y                   16482\n",
       "dtype: int64"
      ]
     },
     "execution_count": 40,
     "metadata": {},
     "output_type": "execute_result"
    }
   ],
   "source": [
    "finaldf.isna().sum()"
   ]
  },
  {
   "cell_type": "markdown",
   "metadata": {},
   "source": [
    "Using the above piece of code, we observe that there are 2 columns that contain a nontrivial amount of missingness, namely, <b> owner </b> and <b> ticker </b> . Therefore we will assess the kind of missingness mechanisms describe these columns. In order to asses whether they are Missing at Random (MAR) or Not Missing at Random (NMAR) we will undertake permutation tests. These tests will determine if the missing values are relating to value present in some other columns."
   ]
  },
  {
   "cell_type": "markdown",
   "metadata": {},
   "source": [
    "### Permuation 1\n",
    "\n",
    "### Null Hyp1: Missingness in 'Ticker' depends on the values in 'Type'\n",
    "The first permutation test will compare the missingness in <b>ticker</b> with the values in the <b>type</b> column.\n",
    "\n",
    "The test statistic used in this test will be the Total Variation Distance(TVD) of the categories in the column.We chose this statistic due the fact that the <b>type</b> column represents a categorical distirbution.\n",
    "\n",
    "The missingness in <b>ticker</b> as broken down by the <b>type</b> can be seen in this pivot table below:"
   ]
  },
  {
   "cell_type": "code",
   "execution_count": 41,
   "metadata": {},
   "outputs": [
    {
     "data": {
      "text/html": [
       "<div>\n",
       "<style scoped>\n",
       "    .dataframe tbody tr th:only-of-type {\n",
       "        vertical-align: middle;\n",
       "    }\n",
       "\n",
       "    .dataframe tbody tr th {\n",
       "        vertical-align: top;\n",
       "    }\n",
       "\n",
       "    .dataframe thead th {\n",
       "        text-align: right;\n",
       "    }\n",
       "</style>\n",
       "<table border=\"1\" class=\"dataframe\">\n",
       "  <thead>\n",
       "    <tr style=\"text-align: right;\">\n",
       "      <th>type</th>\n",
       "      <th>exchange</th>\n",
       "      <th>purchase</th>\n",
       "      <th>sale</th>\n",
       "      <th>sale_full</th>\n",
       "      <th>sale_partial</th>\n",
       "    </tr>\n",
       "    <tr>\n",
       "      <th>ticker_missing</th>\n",
       "      <th></th>\n",
       "      <th></th>\n",
       "      <th></th>\n",
       "      <th></th>\n",
       "      <th></th>\n",
       "    </tr>\n",
       "  </thead>\n",
       "  <tbody>\n",
       "    <tr>\n",
       "      <th>False</th>\n",
       "      <td>0.007145</td>\n",
       "      <td>0.518523</td>\n",
       "      <td>0.000066</td>\n",
       "      <td>0.317544</td>\n",
       "      <td>0.156721</td>\n",
       "    </tr>\n",
       "    <tr>\n",
       "      <th>True</th>\n",
       "      <td>0.022825</td>\n",
       "      <td>0.582026</td>\n",
       "      <td>NaN</td>\n",
       "      <td>0.329529</td>\n",
       "      <td>0.065621</td>\n",
       "    </tr>\n",
       "  </tbody>\n",
       "</table>\n",
       "</div>"
      ],
      "text/plain": [
       "type            exchange  purchase      sale  sale_full  sale_partial\n",
       "ticker_missing                                                       \n",
       "False           0.007145  0.518523  0.000066   0.317544      0.156721\n",
       "True            0.022825  0.582026       NaN   0.329529      0.065621"
      ]
     },
     "execution_count": 41,
     "metadata": {},
     "output_type": "execute_result"
    }
   ],
   "source": [
    "new = finaldf #Temporary DataFrame to perform Permutation tests\n",
    "\n",
    "new['ticker_missing'] = new['ticker'].isna() #Column of Boolean values indicating missingness in Ticker\n",
    "\n",
    "ticker_type_pivot = new.pivot_table(index = 'ticker_missing', columns = 'type', aggfunc = 'size') #Creates a pivot table to view the breakdown of missing values by type\n",
    "\n",
    "ticker_type_pivot = ticker_type_pivot.apply(lambda x: x / x.sum(), axis=1) #Normalizes values in the pivot table\n",
    "\n",
    "ticker_type_pivot"
   ]
  },
  {
   "cell_type": "markdown",
   "metadata": {},
   "source": [
    "The observed TVD can then be calculated as follows:"
   ]
  },
  {
   "cell_type": "code",
   "execution_count": 42,
   "metadata": {},
   "outputs": [
    {
     "data": {
      "text/plain": [
       "0.09110081277304301"
      ]
     },
     "execution_count": 42,
     "metadata": {},
     "output_type": "execute_result"
    }
   ],
   "source": [
    "obs_tvd_1 = ticker_type_pivot.diff().sum().abs().iloc[-1]\n",
    "obs_tvd_1"
   ]
  },
  {
   "cell_type": "markdown",
   "metadata": {},
   "source": [
    "Using a permutation test we will shuffle the missingness of ticker to generate a distribution of our test statisitc. This is observed below:"
   ]
  },
  {
   "cell_type": "code",
   "execution_count": 43,
   "metadata": {},
   "outputs": [],
   "source": [
    "n_repetitions = 5000\n",
    "null_dist1 = [] #NULL DISTRIBUTION\n",
    "\n",
    "for _ in range(n_repetitions):\n",
    "    \n",
    "    new['shuffled_missing_ticker'] = np.random.permutation(new['ticker_missing']) #SHUFFLES MISSINGNESS COLUMN\n",
    "    \n",
    "    pivoted = (new.pivot_table(index='shuffled_missing_ticker', columns = 'type', aggfunc='size').apply(lambda x: x / x.sum(), axis=1))\n",
    "    ###CREATES A NORMALIZED PIVOT TABLE###\n",
    "    \n",
    "    shuff_tvd1 = pivoted.diff().iloc[-1].abs().sum() / 2 # CALCULATES THE TVD\n",
    "    null_dist1.append(shuff_tvd1) #APPENDS THE NEW TVD INTO THE NULL DISTRIBUTION\n"
   ]
  },
  {
   "cell_type": "markdown",
   "metadata": {},
   "source": [
    "Now that we have our Null Distribution we can calculate the p-value to assess the missingness"
   ]
  },
  {
   "cell_type": "code",
   "execution_count": 44,
   "metadata": {},
   "outputs": [
    {
     "data": {
      "image/png": "[encoded data removed]",
      "text/plain": [
       "<Figure size 640x480 with 1 Axes>"
      ]
     },
     "metadata": {
      "image/png": {
       "height": 434,
       "width": 563
      }
     },
     "output_type": "display_data"
    }
   ],
   "source": [
    "pval1 = np.mean(null_dist1 >= obs_tvd_1)\n",
    "\n",
    "pd.Series(null_dist1).plot(kind='hist', density=True, ec='w', bins=10, title=f'p-value: {pval1}', label='Simulated TVDs')\n",
    "plt.axvline(x= obs_tvd_1, color='red', linewidth=2, label='Observed TVD')\n",
    "plt.legend();"
   ]
  },
  {
   "cell_type": "markdown",
   "metadata": {},
   "source": [
    "The distribution above indicates that our pvalue is very close to 0. Given such a low pvalue we can say that:\n",
    "\n",
    "We <b>_reject the null hypothesis_ </b> and conclude that missingness in <b> ticker </b> is not dependant on values in <b> type </b> \n",
    "\n",
    "\n"
   ]
  },
  {
   "cell_type": "markdown",
   "metadata": {},
   "source": [
    "### Permuation 2\n",
    "\n",
    "### Null Hyp2: Missingness in 'Ticker' depends on the values in 'Disclosure Year'\n",
    "This permutation test will compare the missingness in <b>ticker</b> with the values in the <b>disclosure_year</b> column.\n",
    "\n",
    "The test statistic used in this test will also be the Total Variation Distance (TVD) of the categories in the column. We chose this statistic due the fact that the <b>type</b> column represents a categorical distirbution.\n",
    "\n",
    "The missingness in <b>ticker</b> as broken down by the <b>disclosure_year</b> can be seen in this pivot table below:"
   ]
  },
  {
   "cell_type": "code",
   "execution_count": 45,
   "metadata": {},
   "outputs": [
    {
     "data": {
      "text/html": [
       "<div>\n",
       "<style scoped>\n",
       "    .dataframe tbody tr th:only-of-type {\n",
       "        vertical-align: middle;\n",
       "    }\n",
       "\n",
       "    .dataframe tbody tr th {\n",
       "        vertical-align: top;\n",
       "    }\n",
       "\n",
       "    .dataframe thead th {\n",
       "        text-align: right;\n",
       "    }\n",
       "</style>\n",
       "<table border=\"1\" class=\"dataframe\">\n",
       "  <thead>\n",
       "    <tr style=\"text-align: right;\">\n",
       "      <th>disclosure_year</th>\n",
       "      <th>2020</th>\n",
       "      <th>2021</th>\n",
       "      <th>2022</th>\n",
       "      <th>2023</th>\n",
       "    </tr>\n",
       "    <tr>\n",
       "      <th>ticker_missing</th>\n",
       "      <th></th>\n",
       "      <th></th>\n",
       "      <th></th>\n",
       "      <th></th>\n",
       "    </tr>\n",
       "  </thead>\n",
       "  <tbody>\n",
       "    <tr>\n",
       "      <th>False</th>\n",
       "      <td>0.448134</td>\n",
       "      <td>0.335208</td>\n",
       "      <td>0.20303</td>\n",
       "      <td>0.013628</td>\n",
       "    </tr>\n",
       "    <tr>\n",
       "      <th>True</th>\n",
       "      <td>0.350214</td>\n",
       "      <td>0.398003</td>\n",
       "      <td>0.21184</td>\n",
       "      <td>0.039943</td>\n",
       "    </tr>\n",
       "  </tbody>\n",
       "</table>\n",
       "</div>"
      ],
      "text/plain": [
       "disclosure_year      2020      2021     2022      2023\n",
       "ticker_missing                                        \n",
       "False            0.448134  0.335208  0.20303  0.013628\n",
       "True             0.350214  0.398003  0.21184  0.039943"
      ]
     },
     "execution_count": 45,
     "metadata": {},
     "output_type": "execute_result"
    }
   ],
   "source": [
    "new = finaldf #Temporary DataFrame to perform Permutation tests\n",
    "\n",
    "new['ticker_missing'] = new['ticker'].isna() #Column of Boolean values indicating missingness in Ticker\n",
    "\n",
    "ticker_year_pivot = new.pivot_table(index = 'ticker_missing', columns = 'disclosure_year', aggfunc = 'size') #Creates a pivot table to view the breakdown of missing values by type\n",
    "\n",
    "ticker_year_pivot = ticker_year_pivot.apply(lambda x: x / x.sum(), axis=1) #Normalizes values in the pivot table\n",
    "\n",
    "ticker_year_pivot"
   ]
  },
  {
   "cell_type": "markdown",
   "metadata": {},
   "source": [
    "The observed TVD can then be calculated as follows:"
   ]
  },
  {
   "cell_type": "code",
   "execution_count": 46,
   "metadata": {},
   "outputs": [
    {
     "data": {
      "text/plain": [
       "0.026314994758555706"
      ]
     },
     "execution_count": 46,
     "metadata": {},
     "output_type": "execute_result"
    }
   ],
   "source": [
    "obs_tvd_2 = ticker_year_pivot.diff().sum().abs().iloc[-1]\n",
    "obs_tvd_2"
   ]
  },
  {
   "cell_type": "markdown",
   "metadata": {},
   "source": [
    "Using a permutation test we will shuffle the missingness of ticker to generate a distribution of our test statisitc. This is observed below:"
   ]
  },
  {
   "cell_type": "code",
   "execution_count": 47,
   "metadata": {},
   "outputs": [],
   "source": [
    "n_repetitions = 5000\n",
    "null_dist2 = [] #NULL DISTRIBUTION\n",
    "\n",
    "for _ in range(n_repetitions):\n",
    "    \n",
    "    new['shuffled_missing_ticker'] = np.random.permutation(new['ticker_missing']) #SHUFFLES MISSINGNESS COLUMN\n",
    "    \n",
    "    pivoted = (new.pivot_table(index='shuffled_missing_ticker', columns = 'disclosure_year', aggfunc='size').apply(lambda x: x / x.sum(), axis=1))\n",
    "    ###CREATES A NORMALIZED PIVOT TABLE###\n",
    "    \n",
    "    shuff_tvd2 = pivoted.diff().iloc[-1].abs().sum() / 2 # CALCULATES THE TVD\n",
    "    null_dist2.append(shuff_tvd2) #APPENDS THE NEW TVD INTO THE NULL DISTRIBUTION"
   ]
  },
  {
   "cell_type": "markdown",
   "metadata": {},
   "source": [
    "Now that we have our Null Distribution we can calculate the p-value to assess the missingness"
   ]
  },
  {
   "cell_type": "code",
   "execution_count": 48,
   "metadata": {},
   "outputs": [
    {
     "data": {
      "image/png": "[encoded data removed]",
      "text/plain": [
       "<Figure size 640x480 with 1 Axes>"
      ]
     },
     "metadata": {
      "image/png": {
       "height": 434,
       "width": 576
      }
     },
     "output_type": "display_data"
    }
   ],
   "source": [
    "pval2 = np.mean(null_dist2 >= obs_tvd_2)\n",
    "\n",
    "pd.Series(null_dist2).plot(kind='hist', density=True, ec='w', bins=10, title=f'p-value: {pval2}', label='Simulated TVDs')\n",
    "plt.axvline(x= obs_tvd_2, color='red', linewidth=4, label='Observed TVD')\n",
    "plt.legend();\n"
   ]
  },
  {
   "cell_type": "markdown",
   "metadata": {},
   "source": [
    "The distribution above indicates that our pvalue is 0.129 . Given such a pvalue we can say that:\n",
    "\n",
    "We <b>_fail to reject the null hypothesis_ </b> and conclude that missingness in <b> ticker </b> is dependant on <b> disclosure_year </b>"
   ]
  },
  {
   "cell_type": "markdown",
   "metadata": {},
   "source": [
    "### Permuation 3\n",
    "\n",
    "### Null Hyp3: Missingness in 'Owner' depends on the values in 'Type'\n",
    "\n",
    "This permutation test will compare the missingness in <b>owner</b> with the values in the <b>type</b> column.\n",
    "\n",
    "The test statistic used in this test will be the Total Variation Distance(TVD) of the categories in the <b>type</b> column.We chose this statistic due the fact that the <b>type</b> column represents a categorical distirbution.\n",
    "\n",
    "The missingness in <b>owner</b> as broken down by the <b>type</b> can be seen in this pivot table below:"
   ]
  },
  {
   "cell_type": "code",
   "execution_count": 49,
   "metadata": {},
   "outputs": [
    {
     "data": {
      "text/html": [
       "<div>\n",
       "<style scoped>\n",
       "    .dataframe tbody tr th:only-of-type {\n",
       "        vertical-align: middle;\n",
       "    }\n",
       "\n",
       "    .dataframe tbody tr th {\n",
       "        vertical-align: top;\n",
       "    }\n",
       "\n",
       "    .dataframe thead th {\n",
       "        text-align: right;\n",
       "    }\n",
       "</style>\n",
       "<table border=\"1\" class=\"dataframe\">\n",
       "  <thead>\n",
       "    <tr style=\"text-align: right;\">\n",
       "      <th>type</th>\n",
       "      <th>exchange</th>\n",
       "      <th>purchase</th>\n",
       "      <th>sale</th>\n",
       "      <th>sale_full</th>\n",
       "      <th>sale_partial</th>\n",
       "    </tr>\n",
       "    <tr>\n",
       "      <th>owner_missing</th>\n",
       "      <th></th>\n",
       "      <th></th>\n",
       "      <th></th>\n",
       "      <th></th>\n",
       "      <th></th>\n",
       "    </tr>\n",
       "  </thead>\n",
       "  <tbody>\n",
       "    <tr>\n",
       "      <th>False</th>\n",
       "      <td>0.007425</td>\n",
       "      <td>0.548549</td>\n",
       "      <td>0.000114</td>\n",
       "      <td>0.286041</td>\n",
       "      <td>0.157871</td>\n",
       "    </tr>\n",
       "    <tr>\n",
       "      <th>True</th>\n",
       "      <td>0.009660</td>\n",
       "      <td>0.496136</td>\n",
       "      <td>NaN</td>\n",
       "      <td>0.355229</td>\n",
       "      <td>0.138975</td>\n",
       "    </tr>\n",
       "  </tbody>\n",
       "</table>\n",
       "</div>"
      ],
      "text/plain": [
       "type           exchange  purchase      sale  sale_full  sale_partial\n",
       "owner_missing                                                       \n",
       "False          0.007425  0.548549  0.000114   0.286041      0.157871\n",
       "True           0.009660  0.496136       NaN   0.355229      0.138975"
      ]
     },
     "execution_count": 49,
     "metadata": {},
     "output_type": "execute_result"
    }
   ],
   "source": [
    "new = finaldf #Temporary DataFrame to perform Permutation tests\n",
    "\n",
    "new['owner_missing'] = new['owner'].isna() #Column of Boolean values indicating missingness in Ticker\n",
    "\n",
    "owner_type_pivot = new.pivot_table(index = 'owner_missing', columns = 'type', aggfunc = 'size') #Creates a pivot table to view the breakdown of missing values by type\n",
    "\n",
    "owner_type_pivot = owner_type_pivot.apply(lambda x: x / x.sum(), axis=1) #Normalizes values in the pivot table\n",
    "\n",
    "owner_type_pivot"
   ]
  },
  {
   "cell_type": "markdown",
   "metadata": {},
   "source": [
    "The observed TVD can then be calculated as follows:"
   ]
  },
  {
   "cell_type": "code",
   "execution_count": 50,
   "metadata": {},
   "outputs": [
    {
     "data": {
      "text/plain": [
       "0.018895932404846327"
      ]
     },
     "execution_count": 50,
     "metadata": {},
     "output_type": "execute_result"
    }
   ],
   "source": [
    "obs_tvd_3 = owner_type_pivot.diff().sum().abs().iloc[-1]\n",
    "obs_tvd_3"
   ]
  },
  {
   "cell_type": "markdown",
   "metadata": {},
   "source": [
    "Using a permutation test we will shuffle the missingness of owner to generate a distribution of our test statisitc. This is observed below:"
   ]
  },
  {
   "cell_type": "code",
   "execution_count": 51,
   "metadata": {},
   "outputs": [],
   "source": [
    "n_repetitions = 5000\n",
    "null_dist3 = [] #NULL DISTRIBUTION\n",
    "\n",
    "for _ in range(n_repetitions):\n",
    "    \n",
    "    new['shuffled_missing_owner'] = np.random.permutation(new['owner_missing']) #SHUFFLES MISSINGNESS COLUMN\n",
    "    \n",
    "    pivoted = (new.pivot_table(index='shuffled_missing_owner', columns = 'type', aggfunc='size').apply(lambda x: x / x.sum(), axis=1))\n",
    "    ###CREATES A NORMALIZED PIVOT TABLE###\n",
    "    \n",
    "    shuff_tvd3 = pivoted.diff().iloc[-1].abs().sum() / 2 # CALCULATES THE TVD\n",
    "    null_dist3.append(shuff_tvd3) #APPENDS THE NEW TVD INTO THE NULL DISTRIBUTION"
   ]
  },
  {
   "cell_type": "markdown",
   "metadata": {},
   "source": [
    "Now that we have our Null Distribution we can calculate the p-value to assess the missingness"
   ]
  },
  {
   "cell_type": "code",
   "execution_count": 52,
   "metadata": {
    "scrolled": false
   },
   "outputs": [
    {
     "data": {
      "image/png": "[encoded data removed]",
      "text/plain": [
       "<Figure size 640x480 with 1 Axes>"
      ]
     },
     "metadata": {
      "image/png": {
       "height": 434,
       "width": 563
      }
     },
     "output_type": "display_data"
    }
   ],
   "source": [
    "pval3 = np.mean(null_dist3 >= obs_tvd_3)\n",
    "\n",
    "pd.Series(null_dist3).plot(kind='hist', density=True, ec='w', bins=10, title=f'p-value: {pval3}', label='Simulated TVDs')\n",
    "plt.axvline(x= obs_tvd_3, color='red', linewidth=4, label='Observed TVD')\n",
    "plt.legend();\n"
   ]
  },
  {
   "cell_type": "markdown",
   "metadata": {},
   "source": [
    "The distribution above indicates that our pvalue is 0.025 . Given such a pvalue under a 95% confidence interval, we can say that:\n",
    "\n",
    "We <b>_reject the null hypothesis_ </b> and conclude that missingness in <b> owner </b> is not dependant on <b> type </b>"
   ]
  },
  {
   "cell_type": "markdown",
   "metadata": {},
   "source": [
    "### Permuation 4\n",
    "\n",
    "### Null Hyp4: Missingness in 'Owner' depends on the values in 'Year'\n",
    "\n",
    "This permutation test will compare the missingness in <b>owner</b> with the values in the <b>year</b> column.\n",
    "\n",
    "The test statistic used in this test will be the Total Variation Distance(TVD) of the categories in the <b>type</b> column.We chose this statistic due the fact that the <b>type</b> column represents a categorical distirbution.\n",
    "\n",
    "The missingness in <b>owner</b> as broken down by the <b>year</b> can be seen in this pivot table below:"
   ]
  },
  {
   "cell_type": "code",
   "execution_count": 53,
   "metadata": {},
   "outputs": [
    {
     "data": {
      "text/html": [
       "<div>\n",
       "<style scoped>\n",
       "    .dataframe tbody tr th:only-of-type {\n",
       "        vertical-align: middle;\n",
       "    }\n",
       "\n",
       "    .dataframe tbody tr th {\n",
       "        vertical-align: top;\n",
       "    }\n",
       "\n",
       "    .dataframe thead th {\n",
       "        text-align: right;\n",
       "    }\n",
       "</style>\n",
       "<table border=\"1\" class=\"dataframe\">\n",
       "  <thead>\n",
       "    <tr style=\"text-align: right;\">\n",
       "      <th>disclosure_year</th>\n",
       "      <th>2020</th>\n",
       "      <th>2021</th>\n",
       "      <th>2022</th>\n",
       "      <th>2023</th>\n",
       "    </tr>\n",
       "    <tr>\n",
       "      <th>owner_missing</th>\n",
       "      <th></th>\n",
       "      <th></th>\n",
       "      <th></th>\n",
       "      <th></th>\n",
       "    </tr>\n",
       "  </thead>\n",
       "  <tbody>\n",
       "    <tr>\n",
       "      <th>False</th>\n",
       "      <td>0.404729</td>\n",
       "      <td>0.377884</td>\n",
       "      <td>0.204135</td>\n",
       "      <td>0.013251</td>\n",
       "    </tr>\n",
       "    <tr>\n",
       "      <th>True</th>\n",
       "      <td>0.479392</td>\n",
       "      <td>0.298429</td>\n",
       "      <td>0.203375</td>\n",
       "      <td>0.018805</td>\n",
       "    </tr>\n",
       "  </tbody>\n",
       "</table>\n",
       "</div>"
      ],
      "text/plain": [
       "disclosure_year      2020      2021      2022      2023\n",
       "owner_missing                                          \n",
       "False            0.404729  0.377884  0.204135  0.013251\n",
       "True             0.479392  0.298429  0.203375  0.018805"
      ]
     },
     "execution_count": 53,
     "metadata": {},
     "output_type": "execute_result"
    }
   ],
   "source": [
    "new = finaldf #Temporary DataFrame to perform Permutation tests\n",
    "\n",
    "new['owner_missing'] = new['owner'].isna() #Column of Boolean values indicating missingness in Ticker\n",
    "\n",
    "owner_year_pivot = new.pivot_table(index = 'owner_missing', columns = 'disclosure_year', aggfunc = 'size') #Creates a pivot table to view the breakdown of missing values by year\n",
    "\n",
    "owner_year_pivot = owner_year_pivot.apply(lambda x: x / x.sum(), axis=1) #Normalizes values in the pivot table\n",
    "\n",
    "owner_year_pivot"
   ]
  },
  {
   "cell_type": "code",
   "execution_count": 54,
   "metadata": {},
   "outputs": [
    {
     "data": {
      "text/plain": [
       "0.005553654606646589"
      ]
     },
     "execution_count": 54,
     "metadata": {},
     "output_type": "execute_result"
    }
   ],
   "source": [
    "obs_tvd_4 = owner_year_pivot.diff().sum().abs().iloc[-1]\n",
    "obs_tvd_4"
   ]
  },
  {
   "cell_type": "markdown",
   "metadata": {},
   "source": [
    "Using a permutation test we will shuffle the missingness of owner to generate a distribution of our test statisitc. This is observed below:"
   ]
  },
  {
   "cell_type": "code",
   "execution_count": 55,
   "metadata": {},
   "outputs": [],
   "source": [
    "n_repetitions = 5000\n",
    "null_dist4 = [] #NULL DISTRIBUTION\n",
    "\n",
    "for _ in range(n_repetitions):\n",
    "    \n",
    "    new['shuffled_missing_owner'] = np.random.permutation(new['owner_missing']) #SHUFFLES MISSINGNESS COLUMN\n",
    "    \n",
    "    pivoted = (new.pivot_table(index='shuffled_missing_owner', columns = 'type', aggfunc='size').apply(lambda x: x / x.sum(), axis=1))\n",
    "    ###CREATES A NORMALIZED PIVOT TABLE###\n",
    "    \n",
    "    shuff_tvd4 = pivoted.diff().iloc[-1].abs().sum() / 2 # CALCULATES THE TVD\n",
    "    null_dist4.append(shuff_tvd4) #APPENDS THE NEW TVD INTO THE NULL DISTRIBUTION"
   ]
  },
  {
   "cell_type": "markdown",
   "metadata": {},
   "source": [
    "Now that we have our Null Distribution we can calculate the p-value to assess the missingness"
   ]
  },
  {
   "cell_type": "code",
   "execution_count": 56,
   "metadata": {},
   "outputs": [
    {
     "data": {
      "image/png": "[encoded data removed]",
      "text/plain": [
       "<Figure size 640x480 with 1 Axes>"
      ]
     },
     "metadata": {
      "image/png": {
       "height": 434,
       "width": 562
      }
     },
     "output_type": "display_data"
    }
   ],
   "source": [
    "pval4 = np.mean(null_dist4 >= obs_tvd_4)\n",
    "\n",
    "pd.Series(null_dist4).plot(kind='hist', density=True, ec='w', bins=10, title=f'p-value: {pval4}', label='Simulated TVDs')\n",
    "plt.axvline(x= obs_tvd_4, color='red', linewidth=4, label='Observed TVD')\n",
    "plt.legend();"
   ]
  },
  {
   "cell_type": "markdown",
   "metadata": {},
   "source": [
    "The distribution above indicates that our pvalue is 0.7436 . Given such a pvalue under a 95% confidence interval, we can say that:\n",
    "\n",
    "We <b>_fail to reject the null hypothesis_ </b> and conclude that missingness in <b> owner </b> is dependant on <b> year </b>"
   ]
  },
  {
   "cell_type": "markdown",
   "metadata": {},
   "source": [
    "Having conducted this analysis we can assume that owner and ticker may be dependant on other columns like year and type. However we will refrain from imputing values in this exploration as the missing values do not really affect the columns that we require for our analysis of tesla"
   ]
  },
  {
   "cell_type": "markdown",
   "metadata": {},
   "source": [
    "### Hypothesis Test / Permutation Test"
   ]
  },
  {
   "cell_type": "markdown",
   "metadata": {
    "ExecuteTime": {
     "end_time": "2019-10-31T23:36:28.666489Z",
     "start_time": "2019-10-31T23:36:28.664381Z"
    }
   },
   "source": [
    "Our Research Question is <b>_\"Are the Trading Habits the stocks of Tesla is different across parties in the House of Representatives from 2020-2022?\"_</b>\n",
    "\n",
    "\n",
    "In order to test \"trading habits\" we chose a certain measure: \n",
    "\n",
    "i.e <b>_probablity of a party trading the stock_</b> \n",
    "\n",
    "We then use permutation tests for whether there is a significant difference in these measures.\n",
    "\n",
    "To test the first measure, we set the following hypotheses:\n",
    "### Null Hypothesis : \n",
    "\n",
    "<b> _\" Republican Party representatives are just as likely to trade Tesla stock as representatives from the Democratic Party\"_</b>\n",
    "\n",
    "### Alternate Hypothesis:\n",
    "\n",
    "<b> _\"Representatives from the Republican Party trade Tesla stock at a different probability than those of the Democratic Party\"_</b>"
   ]
  },
  {
   "cell_type": "markdown",
   "metadata": {},
   "source": []
  },
  {
   "cell_type": "code",
   "execution_count": 59,
   "metadata": {},
   "outputs": [
    {
     "data": {
      "text/plain": [
       "0.5827"
      ]
     },
     "execution_count": 59,
     "metadata": {},
     "output_type": "execute_result"
    },
    {
     "data": {
      "image/png": "[encoded data removed]",
      "text/plain": [
       "<Figure size 640x480 with 1 Axes>"
      ]
     },
     "metadata": {
      "image/png": {
       "height": 434,
       "width": 659
      }
     },
     "output_type": "display_data"
    }
   ],
   "source": [
    "tesla_bool= finaldf[\"asset_description\"].str.contains(\"Tesla\") ## FILTERING ALL TESLA STOCK TRADES\n",
    "tesladf = finaldf[tesla_bool==True].reset_index(drop=True) ## DATA FRAME OF TESLA TRADES\n",
    "tesladf['null_d'] = (tesladf['party_x'] == \"Democrat\" )\n",
    "\n",
    "countR = []\n",
    "countD = []\n",
    "for i in tesladf[\"type\"].unique():\n",
    "    countR.append(tesladf[(tesladf[\"party_x\"] == \"Republican\")&(tesladf[\"type\"]==i)][\"type\"].count())\n",
    "    countD.append(tesladf[(tesladf[\"party_x\"] == \"Democrat\")&(tesladf[\"type\"]==i)][\"type\"].count())\n",
    "tesladf_final = pd.DataFrame(data = [countR,countD],index = [\"Republican\",\"Democrat\"],columns= tesladf[\"type\"].unique())\n",
    "\n",
    "R = (finaldf[\"party_x\"] == \"Republican\").sum()/((finaldf[\"party_x\"] == \"Republican\").sum()+(finaldf[\"party_x\"] == \"Democrat\").sum())\n",
    "D = 1-R\n",
    "\n",
    "total = 35+58\n",
    "prob = pd.DataFrame(tesladf_final.T.sum())/total  ##CALUCLATES THE RATE OF TRADE OR PROBABLITY THAT A PARTY MEMBER TRADES TESLA STOCK\n",
    "prob[0]\n",
    "\n",
    "#### PERMUTATION PROCESS 100,000 REPETITIONS\n",
    "results = []\n",
    "for _ in range(100000):\n",
    "    simulation = np.random.choice([\"Republican\",\"Democrat\"],p = [R,D],size = total)\n",
    "    simulationR = (simulation==\"Republican\").sum()\n",
    "    results.append(simulationR)\n",
    "pd.Series(results).plot(kind = \"hist\",title = \"Number of results when we simulated total probability of trade from party R\")\n",
    "obs = 35\n",
    "plt.axvline(x=obs,color = \"red\", linewidth = 2)\n",
    "pval = (np.array(results)>=obs).mean()\n",
    "pval # higher than 0.05 so do not reject the null"
   ]
  },
  {
   "cell_type": "markdown",
   "metadata": {},
   "source": [
    "Given the pvalue of 0.5827 we <b> fail to reject </b> the null hypothesis, so it is possible that there is no significant difference between the probabilty of a Republican trading Tesla Stock compared to a Democrat"
   ]
  },
  {
   "cell_type": "markdown",
   "metadata": {},
   "source": [
    "## Conclusion:\n",
    "\n",
    "It appears as though we cannot reject the hypothesis that there is a no significant difference between the 2 parties for their likelihood to trade \"Tesla\" Stock.\n",
    "\n",
    "We do require a much more in depth research into the party-wide trading habits to conclusively prove anything conclusively. However, from the measure of \"probability to trade Tesla Stock\" it appears as though we cannot reject the null. This however, may not be true for other stocks and so it is possible that there is still evidence of insider trading within trades by representatives."
   ]
  }
 ],
 "metadata": {
  "kernelspec": {
   "display_name": "Python 3 (ipykernel)",
   "language": "python",
   "name": "python3"
  },
  "language_info": {
   "codemirror_mode": {
    "name": "ipython",
    "version": 3
   },
   "file_extension": ".py",
   "mimetype": "text/x-python",
   "name": "python",
   "nbconvert_exporter": "python",
   "pygments_lexer": "ipython3",
   "version": "3.8.13"
  }
 },
 "nbformat": 4,
 "nbformat_minor": 2
}
